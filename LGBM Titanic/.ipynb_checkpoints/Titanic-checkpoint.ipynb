{
 "cells": [
  {
   "cell_type": "code",
   "execution_count": 1,
   "metadata": {},
   "outputs": [],
   "source": [
    "import numpy as np # linear algebra\n",
    "import pandas as pd # data processing, CSV file I/O (e.g. pd.read_csv)\n",
    "import os\n",
    "import matplotlib.pyplot as plt\n",
    "import seaborn as sns\n",
    "from sklearn.preprocessing import LabelEncoder\n",
    "from sklearn.preprocessing import StandardScaler\n",
    "from sklearn.preprocessing import MinMaxScaler"
   ]
  },
  {
   "cell_type": "code",
   "execution_count": 2,
   "metadata": {},
   "outputs": [],
   "source": [
    "train = pd.read_csv('train.csv')\n",
    "test = pd.read_csv('test.csv')"
   ]
  },
  {
   "cell_type": "code",
   "execution_count": 3,
   "metadata": {},
   "outputs": [
    {
     "data": {
      "text/html": [
       "<div>\n",
       "<style scoped>\n",
       "    .dataframe tbody tr th:only-of-type {\n",
       "        vertical-align: middle;\n",
       "    }\n",
       "\n",
       "    .dataframe tbody tr th {\n",
       "        vertical-align: top;\n",
       "    }\n",
       "\n",
       "    .dataframe thead th {\n",
       "        text-align: right;\n",
       "    }\n",
       "</style>\n",
       "<table border=\"1\" class=\"dataframe\">\n",
       "  <thead>\n",
       "    <tr style=\"text-align: right;\">\n",
       "      <th></th>\n",
       "      <th>PassengerId</th>\n",
       "      <th>Survived</th>\n",
       "      <th>Pclass</th>\n",
       "      <th>Name</th>\n",
       "      <th>Sex</th>\n",
       "      <th>Age</th>\n",
       "      <th>SibSp</th>\n",
       "      <th>Parch</th>\n",
       "      <th>Ticket</th>\n",
       "      <th>Fare</th>\n",
       "      <th>Cabin</th>\n",
       "      <th>Embarked</th>\n",
       "    </tr>\n",
       "  </thead>\n",
       "  <tbody>\n",
       "    <tr>\n",
       "      <th>0</th>\n",
       "      <td>1</td>\n",
       "      <td>0</td>\n",
       "      <td>3</td>\n",
       "      <td>Braund, Mr. Owen Harris</td>\n",
       "      <td>male</td>\n",
       "      <td>22.0</td>\n",
       "      <td>1</td>\n",
       "      <td>0</td>\n",
       "      <td>A/5 21171</td>\n",
       "      <td>7.2500</td>\n",
       "      <td>NaN</td>\n",
       "      <td>S</td>\n",
       "    </tr>\n",
       "    <tr>\n",
       "      <th>1</th>\n",
       "      <td>2</td>\n",
       "      <td>1</td>\n",
       "      <td>1</td>\n",
       "      <td>Cumings, Mrs. John Bradley (Florence Briggs Th...</td>\n",
       "      <td>female</td>\n",
       "      <td>38.0</td>\n",
       "      <td>1</td>\n",
       "      <td>0</td>\n",
       "      <td>PC 17599</td>\n",
       "      <td>71.2833</td>\n",
       "      <td>C85</td>\n",
       "      <td>C</td>\n",
       "    </tr>\n",
       "    <tr>\n",
       "      <th>2</th>\n",
       "      <td>3</td>\n",
       "      <td>1</td>\n",
       "      <td>3</td>\n",
       "      <td>Heikkinen, Miss. Laina</td>\n",
       "      <td>female</td>\n",
       "      <td>26.0</td>\n",
       "      <td>0</td>\n",
       "      <td>0</td>\n",
       "      <td>STON/O2. 3101282</td>\n",
       "      <td>7.9250</td>\n",
       "      <td>NaN</td>\n",
       "      <td>S</td>\n",
       "    </tr>\n",
       "    <tr>\n",
       "      <th>3</th>\n",
       "      <td>4</td>\n",
       "      <td>1</td>\n",
       "      <td>1</td>\n",
       "      <td>Futrelle, Mrs. Jacques Heath (Lily May Peel)</td>\n",
       "      <td>female</td>\n",
       "      <td>35.0</td>\n",
       "      <td>1</td>\n",
       "      <td>0</td>\n",
       "      <td>113803</td>\n",
       "      <td>53.1000</td>\n",
       "      <td>C123</td>\n",
       "      <td>S</td>\n",
       "    </tr>\n",
       "    <tr>\n",
       "      <th>4</th>\n",
       "      <td>5</td>\n",
       "      <td>0</td>\n",
       "      <td>3</td>\n",
       "      <td>Allen, Mr. William Henry</td>\n",
       "      <td>male</td>\n",
       "      <td>35.0</td>\n",
       "      <td>0</td>\n",
       "      <td>0</td>\n",
       "      <td>373450</td>\n",
       "      <td>8.0500</td>\n",
       "      <td>NaN</td>\n",
       "      <td>S</td>\n",
       "    </tr>\n",
       "  </tbody>\n",
       "</table>\n",
       "</div>"
      ],
      "text/plain": [
       "   PassengerId  Survived  Pclass  \\\n",
       "0            1         0       3   \n",
       "1            2         1       1   \n",
       "2            3         1       3   \n",
       "3            4         1       1   \n",
       "4            5         0       3   \n",
       "\n",
       "                                                Name     Sex   Age  SibSp  \\\n",
       "0                            Braund, Mr. Owen Harris    male  22.0      1   \n",
       "1  Cumings, Mrs. John Bradley (Florence Briggs Th...  female  38.0      1   \n",
       "2                             Heikkinen, Miss. Laina  female  26.0      0   \n",
       "3       Futrelle, Mrs. Jacques Heath (Lily May Peel)  female  35.0      1   \n",
       "4                           Allen, Mr. William Henry    male  35.0      0   \n",
       "\n",
       "   Parch            Ticket     Fare Cabin Embarked  \n",
       "0      0         A/5 21171   7.2500   NaN        S  \n",
       "1      0          PC 17599  71.2833   C85        C  \n",
       "2      0  STON/O2. 3101282   7.9250   NaN        S  \n",
       "3      0            113803  53.1000  C123        S  \n",
       "4      0            373450   8.0500   NaN        S  "
      ]
     },
     "execution_count": 3,
     "metadata": {},
     "output_type": "execute_result"
    }
   ],
   "source": [
    "train.head()"
   ]
  },
  {
   "cell_type": "code",
   "execution_count": 4,
   "metadata": {},
   "outputs": [
    {
     "data": {
      "text/html": [
       "<div>\n",
       "<style scoped>\n",
       "    .dataframe tbody tr th:only-of-type {\n",
       "        vertical-align: middle;\n",
       "    }\n",
       "\n",
       "    .dataframe tbody tr th {\n",
       "        vertical-align: top;\n",
       "    }\n",
       "\n",
       "    .dataframe thead th {\n",
       "        text-align: right;\n",
       "    }\n",
       "</style>\n",
       "<table border=\"1\" class=\"dataframe\">\n",
       "  <thead>\n",
       "    <tr style=\"text-align: right;\">\n",
       "      <th></th>\n",
       "      <th>PassengerId</th>\n",
       "      <th>Pclass</th>\n",
       "      <th>Name</th>\n",
       "      <th>Sex</th>\n",
       "      <th>Age</th>\n",
       "      <th>SibSp</th>\n",
       "      <th>Parch</th>\n",
       "      <th>Ticket</th>\n",
       "      <th>Fare</th>\n",
       "      <th>Cabin</th>\n",
       "      <th>Embarked</th>\n",
       "    </tr>\n",
       "  </thead>\n",
       "  <tbody>\n",
       "    <tr>\n",
       "      <th>0</th>\n",
       "      <td>892</td>\n",
       "      <td>3</td>\n",
       "      <td>Kelly, Mr. James</td>\n",
       "      <td>male</td>\n",
       "      <td>34.5</td>\n",
       "      <td>0</td>\n",
       "      <td>0</td>\n",
       "      <td>330911</td>\n",
       "      <td>7.8292</td>\n",
       "      <td>NaN</td>\n",
       "      <td>Q</td>\n",
       "    </tr>\n",
       "    <tr>\n",
       "      <th>1</th>\n",
       "      <td>893</td>\n",
       "      <td>3</td>\n",
       "      <td>Wilkes, Mrs. James (Ellen Needs)</td>\n",
       "      <td>female</td>\n",
       "      <td>47.0</td>\n",
       "      <td>1</td>\n",
       "      <td>0</td>\n",
       "      <td>363272</td>\n",
       "      <td>7.0000</td>\n",
       "      <td>NaN</td>\n",
       "      <td>S</td>\n",
       "    </tr>\n",
       "    <tr>\n",
       "      <th>2</th>\n",
       "      <td>894</td>\n",
       "      <td>2</td>\n",
       "      <td>Myles, Mr. Thomas Francis</td>\n",
       "      <td>male</td>\n",
       "      <td>62.0</td>\n",
       "      <td>0</td>\n",
       "      <td>0</td>\n",
       "      <td>240276</td>\n",
       "      <td>9.6875</td>\n",
       "      <td>NaN</td>\n",
       "      <td>Q</td>\n",
       "    </tr>\n",
       "    <tr>\n",
       "      <th>3</th>\n",
       "      <td>895</td>\n",
       "      <td>3</td>\n",
       "      <td>Wirz, Mr. Albert</td>\n",
       "      <td>male</td>\n",
       "      <td>27.0</td>\n",
       "      <td>0</td>\n",
       "      <td>0</td>\n",
       "      <td>315154</td>\n",
       "      <td>8.6625</td>\n",
       "      <td>NaN</td>\n",
       "      <td>S</td>\n",
       "    </tr>\n",
       "    <tr>\n",
       "      <th>4</th>\n",
       "      <td>896</td>\n",
       "      <td>3</td>\n",
       "      <td>Hirvonen, Mrs. Alexander (Helga E Lindqvist)</td>\n",
       "      <td>female</td>\n",
       "      <td>22.0</td>\n",
       "      <td>1</td>\n",
       "      <td>1</td>\n",
       "      <td>3101298</td>\n",
       "      <td>12.2875</td>\n",
       "      <td>NaN</td>\n",
       "      <td>S</td>\n",
       "    </tr>\n",
       "  </tbody>\n",
       "</table>\n",
       "</div>"
      ],
      "text/plain": [
       "   PassengerId  Pclass                                          Name     Sex  \\\n",
       "0          892       3                              Kelly, Mr. James    male   \n",
       "1          893       3              Wilkes, Mrs. James (Ellen Needs)  female   \n",
       "2          894       2                     Myles, Mr. Thomas Francis    male   \n",
       "3          895       3                              Wirz, Mr. Albert    male   \n",
       "4          896       3  Hirvonen, Mrs. Alexander (Helga E Lindqvist)  female   \n",
       "\n",
       "    Age  SibSp  Parch   Ticket     Fare Cabin Embarked  \n",
       "0  34.5      0      0   330911   7.8292   NaN        Q  \n",
       "1  47.0      1      0   363272   7.0000   NaN        S  \n",
       "2  62.0      0      0   240276   9.6875   NaN        Q  \n",
       "3  27.0      0      0   315154   8.6625   NaN        S  \n",
       "4  22.0      1      1  3101298  12.2875   NaN        S  "
      ]
     },
     "execution_count": 4,
     "metadata": {},
     "output_type": "execute_result"
    }
   ],
   "source": [
    "test.head()"
   ]
  },
  {
   "cell_type": "code",
   "execution_count": 5,
   "metadata": {},
   "outputs": [
    {
     "data": {
      "text/plain": [
       "PassengerId      0\n",
       "Survived         0\n",
       "Pclass           0\n",
       "Name             0\n",
       "Sex              0\n",
       "Age            177\n",
       "SibSp            0\n",
       "Parch            0\n",
       "Ticket           0\n",
       "Fare             0\n",
       "Cabin          687\n",
       "Embarked         2\n",
       "dtype: int64"
      ]
     },
     "execution_count": 5,
     "metadata": {},
     "output_type": "execute_result"
    }
   ],
   "source": [
    "train.isna().sum()"
   ]
  },
  {
   "cell_type": "code",
   "execution_count": 6,
   "metadata": {},
   "outputs": [
    {
     "data": {
      "text/plain": [
       "PassengerId      0\n",
       "Pclass           0\n",
       "Name             0\n",
       "Sex              0\n",
       "Age             86\n",
       "SibSp            0\n",
       "Parch            0\n",
       "Ticket           0\n",
       "Fare             1\n",
       "Cabin          327\n",
       "Embarked         0\n",
       "dtype: int64"
      ]
     },
     "execution_count": 6,
     "metadata": {},
     "output_type": "execute_result"
    }
   ],
   "source": [
    "test.isna().sum()"
   ]
  },
  {
   "cell_type": "code",
   "execution_count": 7,
   "metadata": {},
   "outputs": [],
   "source": [
    "train.Age.fillna(train.Age.mean(), inplace=True)\n",
    "test.Age.fillna(test.Age.mean(), inplace=True)"
   ]
  },
  {
   "cell_type": "code",
   "execution_count": 8,
   "metadata": {},
   "outputs": [],
   "source": [
    "train.Cabin.fillna(train.Cabin.mode()[0], inplace=True)\n",
    "test.Cabin.fillna(test.Cabin.mode()[0], inplace=True)"
   ]
  },
  {
   "cell_type": "code",
   "execution_count": 9,
   "metadata": {},
   "outputs": [],
   "source": [
    "train.Embarked.fillna(train.Embarked.mode()[0], inplace=True)"
   ]
  },
  {
   "cell_type": "code",
   "execution_count": 10,
   "metadata": {},
   "outputs": [],
   "source": [
    "test.Fare.fillna(train.Fare.mean(), inplace=True)"
   ]
  },
  {
   "cell_type": "code",
   "execution_count": 11,
   "metadata": {},
   "outputs": [
    {
     "data": {
      "text/plain": [
       "PassengerId    0\n",
       "Survived       0\n",
       "Pclass         0\n",
       "Name           0\n",
       "Sex            0\n",
       "Age            0\n",
       "SibSp          0\n",
       "Parch          0\n",
       "Ticket         0\n",
       "Fare           0\n",
       "Cabin          0\n",
       "Embarked       0\n",
       "dtype: int64"
      ]
     },
     "execution_count": 11,
     "metadata": {},
     "output_type": "execute_result"
    }
   ],
   "source": [
    "train.isna().sum()"
   ]
  },
  {
   "cell_type": "code",
   "execution_count": 12,
   "metadata": {},
   "outputs": [
    {
     "data": {
      "text/plain": [
       "PassengerId      int64\n",
       "Survived         int64\n",
       "Pclass           int64\n",
       "Name            object\n",
       "Sex             object\n",
       "Age            float64\n",
       "SibSp            int64\n",
       "Parch            int64\n",
       "Ticket          object\n",
       "Fare           float64\n",
       "Cabin           object\n",
       "Embarked        object\n",
       "dtype: object"
      ]
     },
     "execution_count": 12,
     "metadata": {},
     "output_type": "execute_result"
    }
   ],
   "source": [
    "train.dtypes"
   ]
  },
  {
   "cell_type": "code",
   "execution_count": 13,
   "metadata": {},
   "outputs": [],
   "source": [
    "cat_col = []\n",
    "for col in train.columns:\n",
    "    if train[col].dtype == \"object\":\n",
    "        cat_col.append(col)\n",
    "\n",
    "#LabelEncoder\n",
    "from sklearn.preprocessing import LabelEncoder\n",
    "lb = LabelEncoder()\n",
    "for column in cat_col:\n",
    "    train[column] = lb.fit_transform(train[column])\n",
    "    test[column] = lb.fit_transform(test[column])"
   ]
  },
  {
   "cell_type": "code",
   "execution_count": 14,
   "metadata": {},
   "outputs": [
    {
     "data": {
      "text/html": [
       "<div>\n",
       "<style scoped>\n",
       "    .dataframe tbody tr th:only-of-type {\n",
       "        vertical-align: middle;\n",
       "    }\n",
       "\n",
       "    .dataframe tbody tr th {\n",
       "        vertical-align: top;\n",
       "    }\n",
       "\n",
       "    .dataframe thead th {\n",
       "        text-align: right;\n",
       "    }\n",
       "</style>\n",
       "<table border=\"1\" class=\"dataframe\">\n",
       "  <thead>\n",
       "    <tr style=\"text-align: right;\">\n",
       "      <th></th>\n",
       "      <th>PassengerId</th>\n",
       "      <th>Survived</th>\n",
       "      <th>Pclass</th>\n",
       "      <th>Name</th>\n",
       "      <th>Sex</th>\n",
       "      <th>Age</th>\n",
       "      <th>SibSp</th>\n",
       "      <th>Parch</th>\n",
       "      <th>Ticket</th>\n",
       "      <th>Fare</th>\n",
       "      <th>Cabin</th>\n",
       "      <th>Embarked</th>\n",
       "    </tr>\n",
       "  </thead>\n",
       "  <tbody>\n",
       "    <tr>\n",
       "      <th>0</th>\n",
       "      <td>1</td>\n",
       "      <td>0</td>\n",
       "      <td>3</td>\n",
       "      <td>108</td>\n",
       "      <td>1</td>\n",
       "      <td>22.0</td>\n",
       "      <td>1</td>\n",
       "      <td>0</td>\n",
       "      <td>523</td>\n",
       "      <td>7.2500</td>\n",
       "      <td>47</td>\n",
       "      <td>2</td>\n",
       "    </tr>\n",
       "    <tr>\n",
       "      <th>1</th>\n",
       "      <td>2</td>\n",
       "      <td>1</td>\n",
       "      <td>1</td>\n",
       "      <td>190</td>\n",
       "      <td>0</td>\n",
       "      <td>38.0</td>\n",
       "      <td>1</td>\n",
       "      <td>0</td>\n",
       "      <td>596</td>\n",
       "      <td>71.2833</td>\n",
       "      <td>81</td>\n",
       "      <td>0</td>\n",
       "    </tr>\n",
       "    <tr>\n",
       "      <th>2</th>\n",
       "      <td>3</td>\n",
       "      <td>1</td>\n",
       "      <td>3</td>\n",
       "      <td>353</td>\n",
       "      <td>0</td>\n",
       "      <td>26.0</td>\n",
       "      <td>0</td>\n",
       "      <td>0</td>\n",
       "      <td>669</td>\n",
       "      <td>7.9250</td>\n",
       "      <td>47</td>\n",
       "      <td>2</td>\n",
       "    </tr>\n",
       "    <tr>\n",
       "      <th>3</th>\n",
       "      <td>4</td>\n",
       "      <td>1</td>\n",
       "      <td>1</td>\n",
       "      <td>272</td>\n",
       "      <td>0</td>\n",
       "      <td>35.0</td>\n",
       "      <td>1</td>\n",
       "      <td>0</td>\n",
       "      <td>49</td>\n",
       "      <td>53.1000</td>\n",
       "      <td>55</td>\n",
       "      <td>2</td>\n",
       "    </tr>\n",
       "    <tr>\n",
       "      <th>4</th>\n",
       "      <td>5</td>\n",
       "      <td>0</td>\n",
       "      <td>3</td>\n",
       "      <td>15</td>\n",
       "      <td>1</td>\n",
       "      <td>35.0</td>\n",
       "      <td>0</td>\n",
       "      <td>0</td>\n",
       "      <td>472</td>\n",
       "      <td>8.0500</td>\n",
       "      <td>47</td>\n",
       "      <td>2</td>\n",
       "    </tr>\n",
       "  </tbody>\n",
       "</table>\n",
       "</div>"
      ],
      "text/plain": [
       "   PassengerId  Survived  Pclass  Name  Sex   Age  SibSp  Parch  Ticket  \\\n",
       "0            1         0       3   108    1  22.0      1      0     523   \n",
       "1            2         1       1   190    0  38.0      1      0     596   \n",
       "2            3         1       3   353    0  26.0      0      0     669   \n",
       "3            4         1       1   272    0  35.0      1      0      49   \n",
       "4            5         0       3    15    1  35.0      0      0     472   \n",
       "\n",
       "      Fare  Cabin  Embarked  \n",
       "0   7.2500     47         2  \n",
       "1  71.2833     81         0  \n",
       "2   7.9250     47         2  \n",
       "3  53.1000     55         2  \n",
       "4   8.0500     47         2  "
      ]
     },
     "execution_count": 14,
     "metadata": {},
     "output_type": "execute_result"
    }
   ],
   "source": [
    "train.head()"
   ]
  },
  {
   "cell_type": "code",
   "execution_count": 15,
   "metadata": {},
   "outputs": [],
   "source": [
    "X = train.drop(['Survived', 'PassengerId'], axis=1).values\n",
    "y = train.Survived.values"
   ]
  },
  {
   "cell_type": "code",
   "execution_count": 16,
   "metadata": {},
   "outputs": [],
   "source": [
    "from sklearn.model_selection import train_test_split\n",
    "X_train, X_test, y_train, y_test = train_test_split(X, y, test_size=0.3,random_state=0)"
   ]
  },
  {
   "cell_type": "code",
   "execution_count": 17,
   "metadata": {},
   "outputs": [],
   "source": [
    "import lightgbm as lgb\n",
    "lgb_train = lgb.Dataset(X_train, y_train)\n",
    "lgb_eval = lgb.Dataset(X_test, y_test, reference=lgb_train)"
   ]
  },
  {
   "cell_type": "code",
   "execution_count": 18,
   "metadata": {},
   "outputs": [],
   "source": [
    "params = {\n",
    "        'task': 'train',\n",
    "        'objective': 'binary',\n",
    "        'metric': 'binary_error',\n",
    "        'verbose': 1\n",
    "}"
   ]
  },
  {
   "cell_type": "code",
   "execution_count": 19,
   "metadata": {},
   "outputs": [
    {
     "name": "stdout",
     "output_type": "stream",
     "text": [
      "[1]\ttrain's binary_error: 0.388443\teval's binary_error: 0.373134\n",
      "Training until validation scores don't improve for 100 rounds.\n",
      "[2]\ttrain's binary_error: 0.29695\teval's binary_error: 0.283582\n",
      "[3]\ttrain's binary_error: 0.218299\teval's binary_error: 0.201493\n",
      "[4]\ttrain's binary_error: 0.187801\teval's binary_error: 0.190299\n",
      "[5]\ttrain's binary_error: 0.187801\teval's binary_error: 0.190299\n",
      "[6]\ttrain's binary_error: 0.18138\teval's binary_error: 0.190299\n",
      "[7]\ttrain's binary_error: 0.173355\teval's binary_error: 0.190299\n",
      "[8]\ttrain's binary_error: 0.173355\teval's binary_error: 0.190299\n",
      "[9]\ttrain's binary_error: 0.168539\teval's binary_error: 0.190299\n",
      "[10]\ttrain's binary_error: 0.168539\teval's binary_error: 0.186567\n",
      "[11]\ttrain's binary_error: 0.157303\teval's binary_error: 0.179104\n",
      "[12]\ttrain's binary_error: 0.154093\teval's binary_error: 0.171642\n",
      "[13]\ttrain's binary_error: 0.152488\teval's binary_error: 0.179104\n",
      "[14]\ttrain's binary_error: 0.141252\teval's binary_error: 0.164179\n",
      "[15]\ttrain's binary_error: 0.138042\teval's binary_error: 0.164179\n",
      "[16]\ttrain's binary_error: 0.133226\teval's binary_error: 0.16791\n",
      "[17]\ttrain's binary_error: 0.141252\teval's binary_error: 0.16791\n",
      "[18]\ttrain's binary_error: 0.131621\teval's binary_error: 0.16791\n",
      "[19]\ttrain's binary_error: 0.126806\teval's binary_error: 0.175373\n",
      "[20]\ttrain's binary_error: 0.123596\teval's binary_error: 0.171642\n",
      "[21]\ttrain's binary_error: 0.120385\teval's binary_error: 0.175373\n",
      "[22]\ttrain's binary_error: 0.113965\teval's binary_error: 0.16791\n",
      "[23]\ttrain's binary_error: 0.11236\teval's binary_error: 0.175373\n",
      "[24]\ttrain's binary_error: 0.101124\teval's binary_error: 0.171642\n",
      "[25]\ttrain's binary_error: 0.0995185\teval's binary_error: 0.16791\n",
      "[26]\ttrain's binary_error: 0.0979133\teval's binary_error: 0.156716\n",
      "[27]\ttrain's binary_error: 0.0979133\teval's binary_error: 0.160448\n",
      "[28]\ttrain's binary_error: 0.0979133\teval's binary_error: 0.164179\n",
      "[29]\ttrain's binary_error: 0.0979133\teval's binary_error: 0.160448\n",
      "[30]\ttrain's binary_error: 0.0979133\teval's binary_error: 0.160448\n",
      "[31]\ttrain's binary_error: 0.094703\teval's binary_error: 0.164179\n",
      "[32]\ttrain's binary_error: 0.0930979\teval's binary_error: 0.156716\n",
      "[33]\ttrain's binary_error: 0.0834671\teval's binary_error: 0.156716\n",
      "[34]\ttrain's binary_error: 0.0786517\teval's binary_error: 0.156716\n",
      "[35]\ttrain's binary_error: 0.0786517\teval's binary_error: 0.152985\n",
      "[36]\ttrain's binary_error: 0.0754414\teval's binary_error: 0.156716\n",
      "[37]\ttrain's binary_error: 0.070626\teval's binary_error: 0.156716\n",
      "[38]\ttrain's binary_error: 0.0658106\teval's binary_error: 0.152985\n",
      "[39]\ttrain's binary_error: 0.0658106\teval's binary_error: 0.160448\n",
      "[40]\ttrain's binary_error: 0.0642055\teval's binary_error: 0.160448\n",
      "[41]\ttrain's binary_error: 0.0626003\teval's binary_error: 0.164179\n",
      "[42]\ttrain's binary_error: 0.0626003\teval's binary_error: 0.160448\n",
      "[43]\ttrain's binary_error: 0.0609952\teval's binary_error: 0.160448\n",
      "[44]\ttrain's binary_error: 0.0609952\teval's binary_error: 0.160448\n",
      "[45]\ttrain's binary_error: 0.0609952\teval's binary_error: 0.164179\n",
      "[46]\ttrain's binary_error: 0.0577849\teval's binary_error: 0.164179\n",
      "[47]\ttrain's binary_error: 0.0577849\teval's binary_error: 0.164179\n",
      "[48]\ttrain's binary_error: 0.0561798\teval's binary_error: 0.160448\n",
      "[49]\ttrain's binary_error: 0.0561798\teval's binary_error: 0.164179\n",
      "[50]\ttrain's binary_error: 0.0529695\teval's binary_error: 0.164179\n",
      "[51]\ttrain's binary_error: 0.0529695\teval's binary_error: 0.160448\n",
      "[52]\ttrain's binary_error: 0.0497592\teval's binary_error: 0.164179\n",
      "[53]\ttrain's binary_error: 0.0481541\teval's binary_error: 0.16791\n",
      "[54]\ttrain's binary_error: 0.0449438\teval's binary_error: 0.16791\n",
      "[55]\ttrain's binary_error: 0.0449438\teval's binary_error: 0.16791\n",
      "[56]\ttrain's binary_error: 0.0417335\teval's binary_error: 0.16791\n",
      "[57]\ttrain's binary_error: 0.0369181\teval's binary_error: 0.16791\n",
      "[58]\ttrain's binary_error: 0.035313\teval's binary_error: 0.164179\n",
      "[59]\ttrain's binary_error: 0.0321027\teval's binary_error: 0.16791\n",
      "[60]\ttrain's binary_error: 0.0321027\teval's binary_error: 0.16791\n",
      "[61]\ttrain's binary_error: 0.0288925\teval's binary_error: 0.16791\n",
      "[62]\ttrain's binary_error: 0.024077\teval's binary_error: 0.171642\n",
      "[63]\ttrain's binary_error: 0.0256822\teval's binary_error: 0.171642\n",
      "[64]\ttrain's binary_error: 0.0272873\teval's binary_error: 0.16791\n",
      "[65]\ttrain's binary_error: 0.0256822\teval's binary_error: 0.16791\n",
      "[66]\ttrain's binary_error: 0.0176565\teval's binary_error: 0.16791\n",
      "[67]\ttrain's binary_error: 0.0176565\teval's binary_error: 0.171642\n",
      "[68]\ttrain's binary_error: 0.0192616\teval's binary_error: 0.171642\n",
      "[69]\ttrain's binary_error: 0.0160514\teval's binary_error: 0.16791\n",
      "[70]\ttrain's binary_error: 0.0160514\teval's binary_error: 0.16791\n",
      "[71]\ttrain's binary_error: 0.0144462\teval's binary_error: 0.171642\n",
      "[72]\ttrain's binary_error: 0.0144462\teval's binary_error: 0.16791\n",
      "[73]\ttrain's binary_error: 0.0144462\teval's binary_error: 0.171642\n",
      "[74]\ttrain's binary_error: 0.011236\teval's binary_error: 0.171642\n",
      "[75]\ttrain's binary_error: 0.00963082\teval's binary_error: 0.179104\n",
      "[76]\ttrain's binary_error: 0.011236\teval's binary_error: 0.171642\n",
      "[77]\ttrain's binary_error: 0.00963082\teval's binary_error: 0.16791\n",
      "[78]\ttrain's binary_error: 0.011236\teval's binary_error: 0.175373\n",
      "[79]\ttrain's binary_error: 0.00802568\teval's binary_error: 0.175373\n",
      "[80]\ttrain's binary_error: 0.00642055\teval's binary_error: 0.175373\n",
      "[81]\ttrain's binary_error: 0.00642055\teval's binary_error: 0.175373\n",
      "[82]\ttrain's binary_error: 0.00802568\teval's binary_error: 0.175373\n",
      "[83]\ttrain's binary_error: 0.00802568\teval's binary_error: 0.175373\n",
      "[84]\ttrain's binary_error: 0.00642055\teval's binary_error: 0.175373\n",
      "[85]\ttrain's binary_error: 0.00642055\teval's binary_error: 0.175373\n",
      "[86]\ttrain's binary_error: 0.00481541\teval's binary_error: 0.175373\n",
      "[87]\ttrain's binary_error: 0.00481541\teval's binary_error: 0.175373\n",
      "[88]\ttrain's binary_error: 0.00481541\teval's binary_error: 0.175373\n",
      "[89]\ttrain's binary_error: 0.00481541\teval's binary_error: 0.175373\n",
      "[90]\ttrain's binary_error: 0.00481541\teval's binary_error: 0.182836\n",
      "[91]\ttrain's binary_error: 0.00481541\teval's binary_error: 0.179104\n",
      "[92]\ttrain's binary_error: 0.00481541\teval's binary_error: 0.182836\n",
      "[93]\ttrain's binary_error: 0.00321027\teval's binary_error: 0.175373\n",
      "[94]\ttrain's binary_error: 0.00321027\teval's binary_error: 0.175373\n",
      "[95]\ttrain's binary_error: 0.00321027\teval's binary_error: 0.175373\n",
      "[96]\ttrain's binary_error: 0.00321027\teval's binary_error: 0.179104\n",
      "[97]\ttrain's binary_error: 0.00321027\teval's binary_error: 0.175373\n",
      "[98]\ttrain's binary_error: 0.00321027\teval's binary_error: 0.179104\n",
      "[99]\ttrain's binary_error: 0.00160514\teval's binary_error: 0.179104\n",
      "[100]\ttrain's binary_error: 0.00321027\teval's binary_error: 0.175373\n",
      "[101]\ttrain's binary_error: 0.00321027\teval's binary_error: 0.175373\n",
      "[102]\ttrain's binary_error: 0.00160514\teval's binary_error: 0.175373\n",
      "[103]\ttrain's binary_error: 0.00160514\teval's binary_error: 0.171642\n",
      "[104]\ttrain's binary_error: 0.00160514\teval's binary_error: 0.171642\n",
      "[105]\ttrain's binary_error: 0.00160514\teval's binary_error: 0.171642\n",
      "[106]\ttrain's binary_error: 0.00160514\teval's binary_error: 0.16791\n",
      "[107]\ttrain's binary_error: 0.00160514\teval's binary_error: 0.16791\n",
      "[108]\ttrain's binary_error: 0.00160514\teval's binary_error: 0.16791\n",
      "[109]\ttrain's binary_error: 0.00160514\teval's binary_error: 0.16791\n",
      "[110]\ttrain's binary_error: 0.00160514\teval's binary_error: 0.171642\n",
      "[111]\ttrain's binary_error: 0.00160514\teval's binary_error: 0.171642\n",
      "[112]\ttrain's binary_error: 0.00160514\teval's binary_error: 0.171642\n",
      "[113]\ttrain's binary_error: 0.00160514\teval's binary_error: 0.175373\n",
      "[114]\ttrain's binary_error: 0.00160514\teval's binary_error: 0.179104\n",
      "[115]\ttrain's binary_error: 0.00160514\teval's binary_error: 0.175373\n",
      "[116]\ttrain's binary_error: 0.00160514\teval's binary_error: 0.175373\n",
      "[117]\ttrain's binary_error: 0.00160514\teval's binary_error: 0.175373\n",
      "[118]\ttrain's binary_error: 0.00160514\teval's binary_error: 0.175373\n",
      "[119]\ttrain's binary_error: 0.00160514\teval's binary_error: 0.175373\n",
      "[120]\ttrain's binary_error: 0.00160514\teval's binary_error: 0.175373\n",
      "[121]\ttrain's binary_error: 0.00160514\teval's binary_error: 0.175373\n",
      "[122]\ttrain's binary_error: 0.00160514\teval's binary_error: 0.175373\n",
      "[123]\ttrain's binary_error: 0.00160514\teval's binary_error: 0.179104\n",
      "[124]\ttrain's binary_error: 0.00160514\teval's binary_error: 0.179104\n",
      "[125]\ttrain's binary_error: 0.00160514\teval's binary_error: 0.179104\n",
      "[126]\ttrain's binary_error: 0.00160514\teval's binary_error: 0.182836\n",
      "[127]\ttrain's binary_error: 0.00160514\teval's binary_error: 0.182836\n",
      "[128]\ttrain's binary_error: 0.00160514\teval's binary_error: 0.182836\n",
      "[129]\ttrain's binary_error: 0.00160514\teval's binary_error: 0.182836\n",
      "[130]\ttrain's binary_error: 0.00160514\teval's binary_error: 0.182836\n",
      "[131]\ttrain's binary_error: 0.00160514\teval's binary_error: 0.179104\n",
      "[132]\ttrain's binary_error: 0.00160514\teval's binary_error: 0.179104\n",
      "[133]\ttrain's binary_error: 0.00160514\teval's binary_error: 0.179104\n",
      "[134]\ttrain's binary_error: 0.00160514\teval's binary_error: 0.179104\n",
      "[135]\ttrain's binary_error: 0.00160514\teval's binary_error: 0.179104\n",
      "Early stopping, best iteration is:\n",
      "[35]\ttrain's binary_error: 0.0786517\teval's binary_error: 0.152985\n"
     ]
    }
   ],
   "source": [
    "gbm = lgb.train(params,\n",
    "            lgb_train,\n",
    "            num_boost_round=5000,\n",
    "            early_stopping_rounds=100,\n",
    "            valid_sets=[lgb_train,lgb_eval],\n",
    "            valid_names=['train', 'eval'])"
   ]
  },
  {
   "cell_type": "code",
   "execution_count": 20,
   "metadata": {},
   "outputs": [],
   "source": [
    "prediction = gbm.predict(X_test)"
   ]
  },
  {
   "cell_type": "code",
   "execution_count": 21,
   "metadata": {},
   "outputs": [],
   "source": [
    "encodedPrediction = [1 if x > 0.50 else 0 for x in prediction]    "
   ]
  },
  {
   "cell_type": "code",
   "execution_count": 22,
   "metadata": {},
   "outputs": [],
   "source": [
    "from sklearn.metrics import accuracy_score\n",
    "from sklearn.metrics import confusion_matrix"
   ]
  },
  {
   "cell_type": "code",
   "execution_count": 23,
   "metadata": {},
   "outputs": [
    {
     "name": "stdout",
     "output_type": "stream",
     "text": [
      "0.8470149253731343\n",
      "[[154  14]\n",
      " [ 27  73]]\n"
     ]
    }
   ],
   "source": [
    "print(accuracy_score(y_test, encodedPrediction))\n",
    "print(confusion_matrix(y_test, encodedPrediction))"
   ]
  },
  {
   "cell_type": "code",
   "execution_count": 24,
   "metadata": {},
   "outputs": [],
   "source": [
    "import lgbmTrainingAPI_to_pmml"
   ]
  },
  {
   "cell_type": "code",
   "execution_count": 25,
   "metadata": {},
   "outputs": [],
   "source": [
    "filename = 'lgbmExportedPMM.pmml'"
   ]
  },
  {
   "cell_type": "code",
   "execution_count": 26,
   "metadata": {
    "scrolled": true
   },
   "outputs": [
    {
     "data": {
      "text/plain": [
       "<lgbmTrainingAPI_to_pmml.Export at 0x1f97132f5c0>"
      ]
     },
     "execution_count": 26,
     "metadata": {},
     "output_type": "execute_result"
    }
   ],
   "source": [
    "lgbmTrainingAPI_to_pmml.Export(model = gbm , data = lgb_train.data, pmml_f_name = filename)"
   ]
  },
  {
   "cell_type": "code",
   "execution_count": 79,
   "metadata": {
    "scrolled": true
   },
   "outputs": [],
   "source": [
    "# jsondata = gbm.dump_model()\n",
    "# import pprint\n",
    "# pp = pprint.PrettyPrinter()\n",
    "# pp.pprint(jsondata)"
   ]
  },
  {
   "cell_type": "code",
   "execution_count": 30,
   "metadata": {},
   "outputs": [
    {
     "data": {
      "text/plain": [
       "<lightgbm.basic.Booster at 0x1f970ed4048>"
      ]
     },
     "execution_count": 30,
     "metadata": {},
     "output_type": "execute_result"
    }
   ],
   "source": [
    "gbm.save_model('textModel.txt')"
   ]
  },
  {
   "cell_type": "code",
   "execution_count": null,
   "metadata": {},
   "outputs": [],
   "source": []
  },
  {
   "cell_type": "code",
   "execution_count": null,
   "metadata": {},
   "outputs": [],
   "source": []
  },
  {
   "cell_type": "code",
   "execution_count": null,
   "metadata": {},
   "outputs": [],
   "source": []
  },
  {
   "cell_type": "raw",
   "metadata": {},
   "source": [
    "#FILE RECONSTRUCT"
   ]
  },
  {
   "cell_type": "code",
   "execution_count": 80,
   "metadata": {},
   "outputs": [],
   "source": [
    "newgbm = lgb.basic.Booster(params = {'model_str' : open('textModel.txt', \"r\").read()})"
   ]
  },
  {
   "cell_type": "code",
   "execution_count": 81,
   "metadata": {},
   "outputs": [],
   "source": [
    "frcprediction = newgbm.predict(X_test)"
   ]
  },
  {
   "cell_type": "code",
   "execution_count": 82,
   "metadata": {},
   "outputs": [],
   "source": [
    "frcencodedPrediction = [1 if x > 0.50 else 0 for x in frcprediction] "
   ]
  },
  {
   "cell_type": "code",
   "execution_count": 83,
   "metadata": {},
   "outputs": [
    {
     "name": "stdout",
     "output_type": "stream",
     "text": [
      "0.8470149253731343\n",
      "[[154  14]\n",
      " [ 27  73]]\n"
     ]
    }
   ],
   "source": [
    "print(accuracy_score(y_test, frcencodedPrediction))\n",
    "print(confusion_matrix(y_test, frcencodedPrediction))"
   ]
  },
  {
   "cell_type": "code",
   "execution_count": null,
   "metadata": {},
   "outputs": [],
   "source": []
  },
  {
   "cell_type": "code",
   "execution_count": null,
   "metadata": {},
   "outputs": [],
   "source": []
  },
  {
   "cell_type": "code",
   "execution_count": null,
   "metadata": {},
   "outputs": [],
   "source": []
  },
  {
   "cell_type": "code",
   "execution_count": null,
   "metadata": {},
   "outputs": [],
   "source": []
  },
  {
   "cell_type": "markdown",
   "metadata": {},
   "source": [
    "#PMML RECONSTRUCT"
   ]
  },
  {
   "cell_type": "code",
   "execution_count": 84,
   "metadata": {},
   "outputs": [],
   "source": [
    "import pmml_to_lgbmTrainAPI"
   ]
  },
  {
   "cell_type": "code",
   "execution_count": 85,
   "metadata": {},
   "outputs": [],
   "source": [
    "reconstructed_model = pmml_to_lgbmTrainAPI.reconstruct(filename)"
   ]
  },
  {
   "cell_type": "code",
   "execution_count": 86,
   "metadata": {},
   "outputs": [],
   "source": [
    "rcprediction = reconstructed_model.predict(X_test)"
   ]
  },
  {
   "cell_type": "code",
   "execution_count": 87,
   "metadata": {},
   "outputs": [],
   "source": [
    "rcencodedPrediction = [1 if x > 0.50 else 0 for x in rcprediction]"
   ]
  },
  {
   "cell_type": "code",
   "execution_count": 88,
   "metadata": {},
   "outputs": [
    {
     "name": "stdout",
     "output_type": "stream",
     "text": [
      "0.664179104477612\n",
      "[[92 76]\n",
      " [14 86]]\n"
     ]
    }
   ],
   "source": [
    "print(accuracy_score(y_test, rcencodedPrediction))\n",
    "print(confusion_matrix(y_test, rcencodedPrediction))"
   ]
  },
  {
   "cell_type": "code",
   "execution_count": null,
   "metadata": {},
   "outputs": [],
   "source": [
    "# model has not been reconstructed properly \n",
    "# Reason\n",
    "# Left Child and Right Child values\n",
    "# Order of other tree values\n",
    "# TODO\n",
    "# Compare Tempfile.txt and textModel.txt"
   ]
  }
 ],
 "metadata": {
  "kernelspec": {
   "display_name": "Python 3",
   "language": "python",
   "name": "python3"
  },
  "language_info": {
   "codemirror_mode": {
    "name": "ipython",
    "version": 3
   },
   "file_extension": ".py",
   "mimetype": "text/x-python",
   "name": "python",
   "nbconvert_exporter": "python",
   "pygments_lexer": "ipython3",
   "version": "3.6.8"
  }
 },
 "nbformat": 4,
 "nbformat_minor": 2
}
