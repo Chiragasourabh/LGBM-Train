{
 "cells": [
  {
   "cell_type": "code",
   "execution_count": 1,
   "metadata": {},
   "outputs": [],
   "source": [
    "import numpy as np # linear algebra\n",
    "import pandas as pd # data processing, CSV file I/O (e.g. pd.read_csv)\n",
    "import os\n",
    "import matplotlib.pyplot as plt\n",
    "import seaborn as sns\n",
    "from sklearn.preprocessing import LabelEncoder\n",
    "from sklearn.preprocessing import StandardScaler\n",
    "from sklearn.preprocessing import MinMaxScaler"
   ]
  },
  {
   "cell_type": "code",
   "execution_count": 2,
   "metadata": {},
   "outputs": [],
   "source": [
    "train = pd.read_csv('train.csv')\n",
    "test = pd.read_csv('test.csv')"
   ]
  },
  {
   "cell_type": "code",
   "execution_count": 3,
   "metadata": {},
   "outputs": [
    {
     "data": {
      "text/html": [
       "<div>\n",
       "<style scoped>\n",
       "    .dataframe tbody tr th:only-of-type {\n",
       "        vertical-align: middle;\n",
       "    }\n",
       "\n",
       "    .dataframe tbody tr th {\n",
       "        vertical-align: top;\n",
       "    }\n",
       "\n",
       "    .dataframe thead th {\n",
       "        text-align: right;\n",
       "    }\n",
       "</style>\n",
       "<table border=\"1\" class=\"dataframe\">\n",
       "  <thead>\n",
       "    <tr style=\"text-align: right;\">\n",
       "      <th></th>\n",
       "      <th>PassengerId</th>\n",
       "      <th>Survived</th>\n",
       "      <th>Pclass</th>\n",
       "      <th>Name</th>\n",
       "      <th>Sex</th>\n",
       "      <th>Age</th>\n",
       "      <th>SibSp</th>\n",
       "      <th>Parch</th>\n",
       "      <th>Ticket</th>\n",
       "      <th>Fare</th>\n",
       "      <th>Cabin</th>\n",
       "      <th>Embarked</th>\n",
       "    </tr>\n",
       "  </thead>\n",
       "  <tbody>\n",
       "    <tr>\n",
       "      <th>0</th>\n",
       "      <td>1</td>\n",
       "      <td>0</td>\n",
       "      <td>3</td>\n",
       "      <td>Braund, Mr. Owen Harris</td>\n",
       "      <td>male</td>\n",
       "      <td>22.0</td>\n",
       "      <td>1</td>\n",
       "      <td>0</td>\n",
       "      <td>A/5 21171</td>\n",
       "      <td>7.2500</td>\n",
       "      <td>NaN</td>\n",
       "      <td>S</td>\n",
       "    </tr>\n",
       "    <tr>\n",
       "      <th>1</th>\n",
       "      <td>2</td>\n",
       "      <td>1</td>\n",
       "      <td>1</td>\n",
       "      <td>Cumings, Mrs. John Bradley (Florence Briggs Th...</td>\n",
       "      <td>female</td>\n",
       "      <td>38.0</td>\n",
       "      <td>1</td>\n",
       "      <td>0</td>\n",
       "      <td>PC 17599</td>\n",
       "      <td>71.2833</td>\n",
       "      <td>C85</td>\n",
       "      <td>C</td>\n",
       "    </tr>\n",
       "    <tr>\n",
       "      <th>2</th>\n",
       "      <td>3</td>\n",
       "      <td>1</td>\n",
       "      <td>3</td>\n",
       "      <td>Heikkinen, Miss. Laina</td>\n",
       "      <td>female</td>\n",
       "      <td>26.0</td>\n",
       "      <td>0</td>\n",
       "      <td>0</td>\n",
       "      <td>STON/O2. 3101282</td>\n",
       "      <td>7.9250</td>\n",
       "      <td>NaN</td>\n",
       "      <td>S</td>\n",
       "    </tr>\n",
       "    <tr>\n",
       "      <th>3</th>\n",
       "      <td>4</td>\n",
       "      <td>1</td>\n",
       "      <td>1</td>\n",
       "      <td>Futrelle, Mrs. Jacques Heath (Lily May Peel)</td>\n",
       "      <td>female</td>\n",
       "      <td>35.0</td>\n",
       "      <td>1</td>\n",
       "      <td>0</td>\n",
       "      <td>113803</td>\n",
       "      <td>53.1000</td>\n",
       "      <td>C123</td>\n",
       "      <td>S</td>\n",
       "    </tr>\n",
       "    <tr>\n",
       "      <th>4</th>\n",
       "      <td>5</td>\n",
       "      <td>0</td>\n",
       "      <td>3</td>\n",
       "      <td>Allen, Mr. William Henry</td>\n",
       "      <td>male</td>\n",
       "      <td>35.0</td>\n",
       "      <td>0</td>\n",
       "      <td>0</td>\n",
       "      <td>373450</td>\n",
       "      <td>8.0500</td>\n",
       "      <td>NaN</td>\n",
       "      <td>S</td>\n",
       "    </tr>\n",
       "  </tbody>\n",
       "</table>\n",
       "</div>"
      ],
      "text/plain": [
       "   PassengerId  Survived  Pclass  \\\n",
       "0            1         0       3   \n",
       "1            2         1       1   \n",
       "2            3         1       3   \n",
       "3            4         1       1   \n",
       "4            5         0       3   \n",
       "\n",
       "                                                Name     Sex   Age  SibSp  \\\n",
       "0                            Braund, Mr. Owen Harris    male  22.0      1   \n",
       "1  Cumings, Mrs. John Bradley (Florence Briggs Th...  female  38.0      1   \n",
       "2                             Heikkinen, Miss. Laina  female  26.0      0   \n",
       "3       Futrelle, Mrs. Jacques Heath (Lily May Peel)  female  35.0      1   \n",
       "4                           Allen, Mr. William Henry    male  35.0      0   \n",
       "\n",
       "   Parch            Ticket     Fare Cabin Embarked  \n",
       "0      0         A/5 21171   7.2500   NaN        S  \n",
       "1      0          PC 17599  71.2833   C85        C  \n",
       "2      0  STON/O2. 3101282   7.9250   NaN        S  \n",
       "3      0            113803  53.1000  C123        S  \n",
       "4      0            373450   8.0500   NaN        S  "
      ]
     },
     "execution_count": 3,
     "metadata": {},
     "output_type": "execute_result"
    }
   ],
   "source": [
    "train.head()"
   ]
  },
  {
   "cell_type": "code",
   "execution_count": 4,
   "metadata": {},
   "outputs": [
    {
     "data": {
      "text/html": [
       "<div>\n",
       "<style scoped>\n",
       "    .dataframe tbody tr th:only-of-type {\n",
       "        vertical-align: middle;\n",
       "    }\n",
       "\n",
       "    .dataframe tbody tr th {\n",
       "        vertical-align: top;\n",
       "    }\n",
       "\n",
       "    .dataframe thead th {\n",
       "        text-align: right;\n",
       "    }\n",
       "</style>\n",
       "<table border=\"1\" class=\"dataframe\">\n",
       "  <thead>\n",
       "    <tr style=\"text-align: right;\">\n",
       "      <th></th>\n",
       "      <th>PassengerId</th>\n",
       "      <th>Pclass</th>\n",
       "      <th>Name</th>\n",
       "      <th>Sex</th>\n",
       "      <th>Age</th>\n",
       "      <th>SibSp</th>\n",
       "      <th>Parch</th>\n",
       "      <th>Ticket</th>\n",
       "      <th>Fare</th>\n",
       "      <th>Cabin</th>\n",
       "      <th>Embarked</th>\n",
       "    </tr>\n",
       "  </thead>\n",
       "  <tbody>\n",
       "    <tr>\n",
       "      <th>0</th>\n",
       "      <td>892</td>\n",
       "      <td>3</td>\n",
       "      <td>Kelly, Mr. James</td>\n",
       "      <td>male</td>\n",
       "      <td>34.5</td>\n",
       "      <td>0</td>\n",
       "      <td>0</td>\n",
       "      <td>330911</td>\n",
       "      <td>7.8292</td>\n",
       "      <td>NaN</td>\n",
       "      <td>Q</td>\n",
       "    </tr>\n",
       "    <tr>\n",
       "      <th>1</th>\n",
       "      <td>893</td>\n",
       "      <td>3</td>\n",
       "      <td>Wilkes, Mrs. James (Ellen Needs)</td>\n",
       "      <td>female</td>\n",
       "      <td>47.0</td>\n",
       "      <td>1</td>\n",
       "      <td>0</td>\n",
       "      <td>363272</td>\n",
       "      <td>7.0000</td>\n",
       "      <td>NaN</td>\n",
       "      <td>S</td>\n",
       "    </tr>\n",
       "    <tr>\n",
       "      <th>2</th>\n",
       "      <td>894</td>\n",
       "      <td>2</td>\n",
       "      <td>Myles, Mr. Thomas Francis</td>\n",
       "      <td>male</td>\n",
       "      <td>62.0</td>\n",
       "      <td>0</td>\n",
       "      <td>0</td>\n",
       "      <td>240276</td>\n",
       "      <td>9.6875</td>\n",
       "      <td>NaN</td>\n",
       "      <td>Q</td>\n",
       "    </tr>\n",
       "    <tr>\n",
       "      <th>3</th>\n",
       "      <td>895</td>\n",
       "      <td>3</td>\n",
       "      <td>Wirz, Mr. Albert</td>\n",
       "      <td>male</td>\n",
       "      <td>27.0</td>\n",
       "      <td>0</td>\n",
       "      <td>0</td>\n",
       "      <td>315154</td>\n",
       "      <td>8.6625</td>\n",
       "      <td>NaN</td>\n",
       "      <td>S</td>\n",
       "    </tr>\n",
       "    <tr>\n",
       "      <th>4</th>\n",
       "      <td>896</td>\n",
       "      <td>3</td>\n",
       "      <td>Hirvonen, Mrs. Alexander (Helga E Lindqvist)</td>\n",
       "      <td>female</td>\n",
       "      <td>22.0</td>\n",
       "      <td>1</td>\n",
       "      <td>1</td>\n",
       "      <td>3101298</td>\n",
       "      <td>12.2875</td>\n",
       "      <td>NaN</td>\n",
       "      <td>S</td>\n",
       "    </tr>\n",
       "  </tbody>\n",
       "</table>\n",
       "</div>"
      ],
      "text/plain": [
       "   PassengerId  Pclass                                          Name     Sex  \\\n",
       "0          892       3                              Kelly, Mr. James    male   \n",
       "1          893       3              Wilkes, Mrs. James (Ellen Needs)  female   \n",
       "2          894       2                     Myles, Mr. Thomas Francis    male   \n",
       "3          895       3                              Wirz, Mr. Albert    male   \n",
       "4          896       3  Hirvonen, Mrs. Alexander (Helga E Lindqvist)  female   \n",
       "\n",
       "    Age  SibSp  Parch   Ticket     Fare Cabin Embarked  \n",
       "0  34.5      0      0   330911   7.8292   NaN        Q  \n",
       "1  47.0      1      0   363272   7.0000   NaN        S  \n",
       "2  62.0      0      0   240276   9.6875   NaN        Q  \n",
       "3  27.0      0      0   315154   8.6625   NaN        S  \n",
       "4  22.0      1      1  3101298  12.2875   NaN        S  "
      ]
     },
     "execution_count": 4,
     "metadata": {},
     "output_type": "execute_result"
    }
   ],
   "source": [
    "test.head()"
   ]
  },
  {
   "cell_type": "code",
   "execution_count": 5,
   "metadata": {},
   "outputs": [
    {
     "data": {
      "text/plain": [
       "PassengerId      0\n",
       "Survived         0\n",
       "Pclass           0\n",
       "Name             0\n",
       "Sex              0\n",
       "Age            177\n",
       "SibSp            0\n",
       "Parch            0\n",
       "Ticket           0\n",
       "Fare             0\n",
       "Cabin          687\n",
       "Embarked         2\n",
       "dtype: int64"
      ]
     },
     "execution_count": 5,
     "metadata": {},
     "output_type": "execute_result"
    }
   ],
   "source": [
    "train.isna().sum()"
   ]
  },
  {
   "cell_type": "code",
   "execution_count": 6,
   "metadata": {},
   "outputs": [
    {
     "data": {
      "text/plain": [
       "PassengerId      0\n",
       "Pclass           0\n",
       "Name             0\n",
       "Sex              0\n",
       "Age             86\n",
       "SibSp            0\n",
       "Parch            0\n",
       "Ticket           0\n",
       "Fare             1\n",
       "Cabin          327\n",
       "Embarked         0\n",
       "dtype: int64"
      ]
     },
     "execution_count": 6,
     "metadata": {},
     "output_type": "execute_result"
    }
   ],
   "source": [
    "test.isna().sum()"
   ]
  },
  {
   "cell_type": "code",
   "execution_count": 7,
   "metadata": {},
   "outputs": [],
   "source": [
    "train.Age.fillna(train.Age.mean(), inplace=True)\n",
    "test.Age.fillna(test.Age.mean(), inplace=True)"
   ]
  },
  {
   "cell_type": "code",
   "execution_count": 8,
   "metadata": {},
   "outputs": [],
   "source": [
    "train.Cabin.fillna(train.Cabin.mode()[0], inplace=True)\n",
    "test.Cabin.fillna(test.Cabin.mode()[0], inplace=True)"
   ]
  },
  {
   "cell_type": "code",
   "execution_count": 9,
   "metadata": {},
   "outputs": [],
   "source": [
    "train.Embarked.fillna(train.Embarked.mode()[0], inplace=True)"
   ]
  },
  {
   "cell_type": "code",
   "execution_count": 10,
   "metadata": {},
   "outputs": [],
   "source": [
    "test.Fare.fillna(train.Fare.mean(), inplace=True)"
   ]
  },
  {
   "cell_type": "code",
   "execution_count": 11,
   "metadata": {},
   "outputs": [
    {
     "data": {
      "text/plain": [
       "PassengerId    0\n",
       "Pclass         0\n",
       "Name           0\n",
       "Sex            0\n",
       "Age            0\n",
       "SibSp          0\n",
       "Parch          0\n",
       "Ticket         0\n",
       "Fare           0\n",
       "Cabin          0\n",
       "Embarked       0\n",
       "dtype: int64"
      ]
     },
     "execution_count": 11,
     "metadata": {},
     "output_type": "execute_result"
    }
   ],
   "source": [
    "test.isna().sum()"
   ]
  },
  {
   "cell_type": "code",
   "execution_count": 12,
   "metadata": {},
   "outputs": [],
   "source": [
    "cat_col = []\n",
    "for col in train.columns:\n",
    "    if train[col].dtype == \"object\":\n",
    "        cat_col.append(col)\n",
    "\n",
    "#LabelEncoder\n",
    "from sklearn.preprocessing import LabelEncoder\n",
    "lb = LabelEncoder()\n",
    "for column in cat_col:\n",
    "    train[column] = lb.fit_transform(train[column])\n",
    "    test[column] = lb.fit_transform(test[column])"
   ]
  },
  {
   "cell_type": "code",
   "execution_count": 13,
   "metadata": {},
   "outputs": [
    {
     "data": {
      "text/html": [
       "<div>\n",
       "<style scoped>\n",
       "    .dataframe tbody tr th:only-of-type {\n",
       "        vertical-align: middle;\n",
       "    }\n",
       "\n",
       "    .dataframe tbody tr th {\n",
       "        vertical-align: top;\n",
       "    }\n",
       "\n",
       "    .dataframe thead th {\n",
       "        text-align: right;\n",
       "    }\n",
       "</style>\n",
       "<table border=\"1\" class=\"dataframe\">\n",
       "  <thead>\n",
       "    <tr style=\"text-align: right;\">\n",
       "      <th></th>\n",
       "      <th>PassengerId</th>\n",
       "      <th>Survived</th>\n",
       "      <th>Pclass</th>\n",
       "      <th>Name</th>\n",
       "      <th>Sex</th>\n",
       "      <th>Age</th>\n",
       "      <th>SibSp</th>\n",
       "      <th>Parch</th>\n",
       "      <th>Ticket</th>\n",
       "      <th>Fare</th>\n",
       "      <th>Cabin</th>\n",
       "      <th>Embarked</th>\n",
       "    </tr>\n",
       "  </thead>\n",
       "  <tbody>\n",
       "    <tr>\n",
       "      <th>0</th>\n",
       "      <td>1</td>\n",
       "      <td>0</td>\n",
       "      <td>3</td>\n",
       "      <td>108</td>\n",
       "      <td>1</td>\n",
       "      <td>22.0</td>\n",
       "      <td>1</td>\n",
       "      <td>0</td>\n",
       "      <td>523</td>\n",
       "      <td>7.2500</td>\n",
       "      <td>47</td>\n",
       "      <td>2</td>\n",
       "    </tr>\n",
       "    <tr>\n",
       "      <th>1</th>\n",
       "      <td>2</td>\n",
       "      <td>1</td>\n",
       "      <td>1</td>\n",
       "      <td>190</td>\n",
       "      <td>0</td>\n",
       "      <td>38.0</td>\n",
       "      <td>1</td>\n",
       "      <td>0</td>\n",
       "      <td>596</td>\n",
       "      <td>71.2833</td>\n",
       "      <td>81</td>\n",
       "      <td>0</td>\n",
       "    </tr>\n",
       "    <tr>\n",
       "      <th>2</th>\n",
       "      <td>3</td>\n",
       "      <td>1</td>\n",
       "      <td>3</td>\n",
       "      <td>353</td>\n",
       "      <td>0</td>\n",
       "      <td>26.0</td>\n",
       "      <td>0</td>\n",
       "      <td>0</td>\n",
       "      <td>669</td>\n",
       "      <td>7.9250</td>\n",
       "      <td>47</td>\n",
       "      <td>2</td>\n",
       "    </tr>\n",
       "    <tr>\n",
       "      <th>3</th>\n",
       "      <td>4</td>\n",
       "      <td>1</td>\n",
       "      <td>1</td>\n",
       "      <td>272</td>\n",
       "      <td>0</td>\n",
       "      <td>35.0</td>\n",
       "      <td>1</td>\n",
       "      <td>0</td>\n",
       "      <td>49</td>\n",
       "      <td>53.1000</td>\n",
       "      <td>55</td>\n",
       "      <td>2</td>\n",
       "    </tr>\n",
       "    <tr>\n",
       "      <th>4</th>\n",
       "      <td>5</td>\n",
       "      <td>0</td>\n",
       "      <td>3</td>\n",
       "      <td>15</td>\n",
       "      <td>1</td>\n",
       "      <td>35.0</td>\n",
       "      <td>0</td>\n",
       "      <td>0</td>\n",
       "      <td>472</td>\n",
       "      <td>8.0500</td>\n",
       "      <td>47</td>\n",
       "      <td>2</td>\n",
       "    </tr>\n",
       "  </tbody>\n",
       "</table>\n",
       "</div>"
      ],
      "text/plain": [
       "   PassengerId  Survived  Pclass  Name  Sex   Age  SibSp  Parch  Ticket  \\\n",
       "0            1         0       3   108    1  22.0      1      0     523   \n",
       "1            2         1       1   190    0  38.0      1      0     596   \n",
       "2            3         1       3   353    0  26.0      0      0     669   \n",
       "3            4         1       1   272    0  35.0      1      0      49   \n",
       "4            5         0       3    15    1  35.0      0      0     472   \n",
       "\n",
       "      Fare  Cabin  Embarked  \n",
       "0   7.2500     47         2  \n",
       "1  71.2833     81         0  \n",
       "2   7.9250     47         2  \n",
       "3  53.1000     55         2  \n",
       "4   8.0500     47         2  "
      ]
     },
     "execution_count": 13,
     "metadata": {},
     "output_type": "execute_result"
    }
   ],
   "source": [
    "train.head()"
   ]
  },
  {
   "cell_type": "code",
   "execution_count": 14,
   "metadata": {},
   "outputs": [],
   "source": [
    "X = train.drop(['Survived', 'PassengerId'], axis=1).values\n",
    "y = train.Survived.values"
   ]
  },
  {
   "cell_type": "code",
   "execution_count": 15,
   "metadata": {},
   "outputs": [],
   "source": [
    "from sklearn.model_selection import train_test_split\n",
    "X_train, X_test, y_train, y_test = train_test_split(X, y, test_size=0.3,random_state=0)"
   ]
  },
  {
   "cell_type": "code",
   "execution_count": 16,
   "metadata": {},
   "outputs": [],
   "source": [
    "import lightgbm as lgb\n",
    "lgb_train = lgb.Dataset(X_train, y_train)\n",
    "lgb_eval = lgb.Dataset(X_test, y_test, reference=lgb_train)"
   ]
  },
  {
   "cell_type": "code",
   "execution_count": 17,
   "metadata": {},
   "outputs": [],
   "source": [
    "params = {\n",
    "        'task': 'train',\n",
    "        'objective': 'binary',\n",
    "        'metric': 'binary_error',\n",
    "        'verbose': 1\n",
    "}"
   ]
  },
  {
   "cell_type": "code",
   "execution_count": 18,
   "metadata": {},
   "outputs": [
    {
     "name": "stdout",
     "output_type": "stream",
     "text": [
      "[1]\ttrain's binary_error: 0.388443\teval's binary_error: 0.373134\n",
      "Training until validation scores don't improve for 100 rounds.\n",
      "Did not meet early stopping. Best iteration is:\n",
      "[1]\ttrain's binary_error: 0.388443\teval's binary_error: 0.373134\n"
     ]
    }
   ],
   "source": [
    "gbm = lgb.train(params,\n",
    "            lgb_train,\n",
    "            num_boost_round=1,\n",
    "            early_stopping_rounds=100,\n",
    "            valid_sets=[lgb_train,lgb_eval],\n",
    "            valid_names=['train', 'eval'])"
   ]
  },
  {
   "cell_type": "code",
   "execution_count": null,
   "metadata": {},
   "outputs": [],
   "source": []
  },
  {
   "cell_type": "code",
   "execution_count": null,
   "metadata": {},
   "outputs": [],
   "source": []
  },
  {
   "cell_type": "code",
   "execution_count": null,
   "metadata": {},
   "outputs": [],
   "source": []
  },
  {
   "cell_type": "code",
   "execution_count": 19,
   "metadata": {},
   "outputs": [],
   "source": [
    "prediction = gbm.predict(X_test)"
   ]
  },
  {
   "cell_type": "code",
   "execution_count": 20,
   "metadata": {},
   "outputs": [],
   "source": [
    "encodedPrediction = [1 if x > 0.50 else 0 for x in prediction]    "
   ]
  },
  {
   "cell_type": "code",
   "execution_count": 21,
   "metadata": {},
   "outputs": [],
   "source": [
    "from sklearn.metrics import accuracy_score\n",
    "from sklearn.metrics import confusion_matrix"
   ]
  },
  {
   "cell_type": "code",
   "execution_count": 22,
   "metadata": {},
   "outputs": [
    {
     "name": "stdout",
     "output_type": "stream",
     "text": [
      "0.6268656716417911\n",
      "[[168   0]\n",
      " [100   0]]\n"
     ]
    }
   ],
   "source": [
    "print(accuracy_score(y_test, encodedPrediction))\n",
    "print(confusion_matrix(y_test, encodedPrediction))"
   ]
  },
  {
   "cell_type": "code",
   "execution_count": null,
   "metadata": {},
   "outputs": [],
   "source": []
  },
  {
   "cell_type": "code",
   "execution_count": null,
   "metadata": {},
   "outputs": [],
   "source": []
  },
  {
   "cell_type": "code",
   "execution_count": null,
   "metadata": {},
   "outputs": [],
   "source": []
  },
  {
   "cell_type": "code",
   "execution_count": 23,
   "metadata": {},
   "outputs": [],
   "source": [
    "import lgbmTrainingAPI_to_pmml"
   ]
  },
  {
   "cell_type": "code",
   "execution_count": 24,
   "metadata": {},
   "outputs": [],
   "source": [
    "filename = 'lgbmExportedPMM.pmml'"
   ]
  },
  {
   "cell_type": "code",
   "execution_count": 25,
   "metadata": {
    "scrolled": true
   },
   "outputs": [
    {
     "data": {
      "text/plain": [
       "<lgbmTrainingAPI_to_pmml.Export at 0x24c46c344e0>"
      ]
     },
     "execution_count": 25,
     "metadata": {},
     "output_type": "execute_result"
    }
   ],
   "source": [
    "lgbmTrainingAPI_to_pmml.Export(model = gbm , pmml_f_name = filename)"
   ]
  },
  {
   "cell_type": "code",
   "execution_count": 26,
   "metadata": {
    "scrolled": true
   },
   "outputs": [
    {
     "name": "stdout",
     "output_type": "stream",
     "text": [
      "{'average_output': False,\n",
      " 'feature_names': ['Column_0',\n",
      "                   'Column_1',\n",
      "                   'Column_2',\n",
      "                   'Column_3',\n",
      "                   'Column_4',\n",
      "                   'Column_5',\n",
      "                   'Column_6',\n",
      "                   'Column_7',\n",
      "                   'Column_8',\n",
      "                   'Column_9'],\n",
      " 'label_index': 0,\n",
      " 'max_feature_idx': 9,\n",
      " 'name': 'tree',\n",
      " 'num_class': 1,\n",
      " 'num_tree_per_iteration': 1,\n",
      " 'objective': 'binary sigmoid:1',\n",
      " 'pandas_categorical': None,\n",
      " 'tree_info': [{'num_cat': 0,\n",
      "                'num_leaves': 22,\n",
      "                'shrinkage': 1,\n",
      "                'tree_index': 0,\n",
      "                'tree_structure': {'decision_type': '<=',\n",
      "                                   'default_left': True,\n",
      "                                   'internal_count': 623,\n",
      "                                   'internal_value': 0,\n",
      "                                   'left_child': {'decision_type': '<=',\n",
      "                                                  'default_left': True,\n",
      "                                                  'internal_count': 215,\n",
      "                                                  'internal_value': 1.53668,\n",
      "                                                  'left_child': {'decision_type': '<=',\n",
      "                                                                 'default_left': True,\n",
      "                                                                 'internal_count': 122,\n",
      "                                                                 'internal_value': 2.29834,\n",
      "                                                                 'left_child': {'decision_type': '<=',\n",
      "                                                                                'default_left': True,\n",
      "                                                                                'internal_count': 51,\n",
      "                                                                                'internal_value': 2.07914,\n",
      "                                                                                'left_child': {'leaf_count': 22,\n",
      "                                                                                               'leaf_index': 0,\n",
      "                                                                                               'leaf_value': -0.27296091280993884},\n",
      "                                                                                'missing_type': 'None',\n",
      "                                                                                'right_child': {'leaf_count': 29,\n",
      "                                                                                                'leaf_index': 17,\n",
      "                                                                                                'leaf_value': -0.22545500974297675},\n",
      "                                                                                'split_feature': 6,\n",
      "                                                                                'split_gain': 0.6706719994544983,\n",
      "                                                                                'split_index': 16,\n",
      "                                                                                'threshold': 160.50000000000003},\n",
      "                                                                 'missing_type': 'None',\n",
      "                                                                 'right_child': {'decision_type': '<=',\n",
      "                                                                                 'default_left': True,\n",
      "                                                                                 'internal_count': 71,\n",
      "                                                                                 'internal_value': 2.4558,\n",
      "                                                                                 'left_child': {'leaf_count': 20,\n",
      "                                                                                                'leaf_index': 16,\n",
      "                                                                                                'leaf_value': -0.23851913308639144},\n",
      "                                                                                 'missing_type': 'None',\n",
      "                                                                                 'right_child': {'leaf_count': 51,\n",
      "                                                                                                 'leaf_index': 18,\n",
      "                                                                                                 'leaf_value': -0.19642362453538886},\n",
      "                                                                                 'split_feature': 1,\n",
      "                                                                                 'split_gain': 0.6047520041465759,\n",
      "                                                                                 'split_index': 17,\n",
      "                                                                                 'threshold': 174.50000000000003},\n",
      "                                                                 'split_feature': 7,\n",
      "                                                                 'split_gain': 1.0003199577331543,\n",
      "                                                                 'split_index': 15,\n",
      "                                                                 'threshold': 28.856250000000003},\n",
      "                                                  'missing_type': 'None',\n",
      "                                                  'right_child': {'decision_type': '<=',\n",
      "                                                                  'default_left': True,\n",
      "                                                                  'internal_count': 93,\n",
      "                                                                  'internal_value': 0.537501,\n",
      "                                                                  'left_child': {'leaf_count': 37,\n",
      "                                                                                 'leaf_index': 2,\n",
      "                                                                                 'leaf_value': -0.298818104794584},\n",
      "                                                                  'missing_type': 'None',\n",
      "                                                                  'right_child': {'decision_type': '<=',\n",
      "                                                                                  'default_left': True,\n",
      "                                                                                  'internal_count': 56,\n",
      "                                                                                  'internal_value': -0.13176,\n",
      "                                                                                  'left_child': {'leaf_count': 34,\n",
      "                                                                                                 'leaf_index': 4,\n",
      "                                                                                                 'leaf_value': -0.40690116729040104},\n",
      "                                                                                  'missing_type': 'None',\n",
      "                                                                                  'right_child': {'leaf_count': 22,\n",
      "                                                                                                  'leaf_index': 6,\n",
      "                                                                                                  'leaf_value': -0.5599757438395008},\n",
      "                                                                                  'split_feature': 7,\n",
      "                                                                                  'split_gain': 7.435050010681152,\n",
      "                                                                                  'split_index': 5,\n",
      "                                                                                  'threshold': 21.037500000000005},\n",
      "                                                                  'split_feature': 9,\n",
      "                                                                  'split_gain': 14.97700023651123,\n",
      "                                                                  'split_index': 3,\n",
      "                                                                  'threshold': 1.5000000000000002},\n",
      "                                                  'split_feature': 0,\n",
      "                                                  'split_gain': 38.869598388671875,\n",
      "                                                  'split_index': 1,\n",
      "                                                  'threshold': 2.5000000000000004},\n",
      "                                   'missing_type': 'None',\n",
      "                                   'right_child': {'decision_type': '<=',\n",
      "                                                   'default_left': True,\n",
      "                                                   'internal_count': 408,\n",
      "                                                   'internal_value': -0.809768,\n",
      "                                                   'left_child': {'leaf_count': 29,\n",
      "                                                                  'leaf_index': 1,\n",
      "                                                                  'leaf_value': -0.38512762838471015},\n",
      "                                                   'missing_type': 'None',\n",
      "                                                   'right_child': {'decision_type': '<=',\n",
      "                                                                   'default_left': True,\n",
      "                                                                   'internal_count': 379,\n",
      "                                                                   'internal_value': -0.924323,\n",
      "                                                                   'left_child': {'decision_type': '<=',\n",
      "                                                                                  'default_left': True,\n",
      "                                                                                  'internal_count': 85,\n",
      "                                                                                  'internal_value': -0.198971,\n",
      "                                                                                  'left_child': {'decision_type': '<=',\n",
      "                                                                                                 'default_left': True,\n",
      "                                                                                                 'internal_count': 50,\n",
      "                                                                                                 'internal_value': 0.301223,\n",
      "                                                                                                 'left_child': {'leaf_count': 28,\n",
      "                                                                                                                'leaf_index': 3,\n",
      "                                                                                                                'leaf_value': -0.4670376080775474},\n",
      "                                                                                                 'missing_type': 'None',\n",
      "                                                                                                 'right_child': {'leaf_count': 22,\n",
      "                                                                                                                 'leaf_index': 10,\n",
      "                                                                                                                 'leaf_value': -0.3686325231531261},\n",
      "                                                                                                 'split_feature': 8,\n",
      "                                                                                                 'split_gain': 2.8340699672698975,\n",
      "                                                                                                 'split_index': 9,\n",
      "                                                                                                 'threshold': 59.50000000000001},\n",
      "                                                                                  'missing_type': 'None',\n",
      "                                                                                  'right_child': {'leaf_count': 35,\n",
      "                                                                                                  'leaf_index': 7,\n",
      "                                                                                                  'leaf_value': -0.5452149811008377},\n",
      "                                                                                  'split_feature': 1,\n",
      "                                                                                  'split_gain': 7.217080116271973,\n",
      "                                                                                  'split_index': 6,\n",
      "                                                                                  'threshold': 477.50000000000006},\n",
      "                                                                   'missing_type': 'None',\n",
      "                                                                   'right_child': {'decision_type': '<=',\n",
      "                                                                                   'default_left': True,\n",
      "                                                                                   'internal_count': 294,\n",
      "                                                                                   'internal_value': -1.13403,\n",
      "                                                                                   'left_child': {'decision_type': '<=',\n",
      "                                                                                                  'default_left': True,\n",
      "                                                                                                  'internal_count': 270,\n",
      "                                                                                                  'internal_value': -1.21422,\n",
      "                                                                                                  'left_child': {'decision_type': '<=',\n",
      "                                                                                                                 'default_left': True,\n",
      "                                                                                                                 'internal_count': 61,\n",
      "                                                                                                                 'internal_value': -0.807062,\n",
      "                                                                                                                 'left_child': {'leaf_count': 35,\n",
      "                                                                                                                                'leaf_index': 5,\n",
      "                                                                                                                                'leaf_value': -0.5692695574156962},\n",
      "                                                                                                                 'missing_type': 'None',\n",
      "                                                                                                                 'right_child': {'leaf_count': 26,\n",
      "                                                                                                                                 'leaf_index': 11,\n",
      "                                                                                                                                 'leaf_value': -0.48785406835002115},\n",
      "                                                                                                                 'split_feature': 0,\n",
      "                                                                                                                 'split_gain': 2.3490400314331055,\n",
      "                                                                                                                 'split_index': 10,\n",
      "                                                                                                                 'threshold': 2.5000000000000004},\n",
      "                                                                                                  'missing_type': 'None',\n",
      "                                                                                                  'right_child': {'decision_type': '<=',\n",
      "                                                                                                                  'default_left': True,\n",
      "                                                                                                                  'internal_count': 209,\n",
      "                                                                                                                  'internal_value': -1.33305,\n",
      "                                                                                                                  'left_child': {'decision_type': '<=',\n",
      "                                                                                                                                 'default_left': True,\n",
      "                                                                                                                                 'internal_count': 153,\n",
      "                                                                                                                                 'internal_value': -1.22247,\n",
      "                                                                                                                                 'left_child': {'decision_type': '<=',\n",
      "                                                                                                                                                'default_left': True,\n",
      "                                                                                                                                                'internal_count': 72,\n",
      "                                                                                                                                                'internal_value': -1.51824,\n",
      "                                                                                                                                                'left_child': {'leaf_count': 21,\n",
      "                                                                                                                                                               'leaf_index': 9,\n",
      "                                                                                                                                                               'leaf_value': -0.577287749520649},\n",
      "                                                                                                                                                'missing_type': 'None',\n",
      "                                                                                                                                                'right_child': {'decision_type': '<=',\n",
      "                                                                                                                                                                'default_left': True,\n",
      "                                                                                                                                                                'internal_count': 51,\n",
      "                                                                                                                                                                'internal_value': -1.63517,\n",
      "                                                                                                                                                                'left_child': {'leaf_count': 27,\n",
      "                                                                                                                                                                               'leaf_index': 19,\n",
      "                                                                                                                                                                               'leaf_value': -0.6173787100454133},\n",
      "                                                                                                                                                                'missing_type': 'None',\n",
      "                                                                                                                                                                'right_child': {'leaf_count': 24,\n",
      "                                                                                                                                                                                'leaf_index': 21,\n",
      "                                                                                                                                                                                'leaf_value': -0.6173787100454133},\n",
      "                                                                                                                                                                'split_feature': 1,\n",
      "                                                                                                                                                                'split_gain': 7.105429898699844e-15,\n",
      "                                                                                                                                                                'split_index': 20,\n",
      "                                                                                                                                                                'threshold': 362.50000000000006},\n",
      "                                                                                                                                                'split_feature': 7,\n",
      "                                                                                                                                                'split_gain': 0.5679550170898438,\n",
      "                                                                                                                                                'split_index': 18,\n",
      "                                                                                                                                                'threshold': 7.797900000000001},\n",
      "                                                                                                                                 'missing_type': 'None',\n",
      "                                                                                                                                 'right_child': {'decision_type': '<=',\n",
      "                                                                                                                                                 'default_left': True,\n",
      "                                                                                                                                                 'internal_count': 81,\n",
      "                                                                                                                                                 'internal_value': -0.959564,\n",
      "                                                                                                                                                 'left_child': {'decision_type': '<=',\n",
      "                                                                                                                                                                'default_left': True,\n",
      "                                                                                                                                                                'internal_count': 42,\n",
      "                                                                                                                                                                'internal_value': -0.632897,\n",
      "                                                                                                                                                                'left_child': {'leaf_count': 22,\n",
      "                                                                                                                                                                               'leaf_index': 13,\n",
      "                                                                                                                                                                               'leaf_value': -0.48343845556495096},\n",
      "                                                                                                                                                                'missing_type': 'None',\n",
      "                                                                                                                                                                'right_child': {'leaf_count': 20,\n",
      "                                                                                                                                                                                'leaf_index': 15,\n",
      "                                                                                                                                                                                'leaf_value': -0.5542354472189096},\n",
      "                                                                                                                                                                'split_feature': 1,\n",
      "                                                                                                                                                                'split_gain': 1.247380018234253,\n",
      "                                                                                                                                                                'split_index': 14,\n",
      "                                                                                                                                                                'threshold': 541.5000000000001},\n",
      "                                                                                                                                                 'missing_type': 'None',\n",
      "                                                                                                                                                 'right_child': {'leaf_count': 39,\n",
      "                                                                                                                                                                 'leaf_index': 14,\n",
      "                                                                                                                                                                 'leaf_value': -0.5849975496215652},\n",
      "                                                                                                                                                 'split_feature': 6,\n",
      "                                                                                                                                                 'split_gain': 2.211280107498169,\n",
      "                                                                                                                                                 'split_index': 13,\n",
      "                                                                                                                                                 'threshold': 445.50000000000006},\n",
      "                                                                                                                                 'split_feature': 3,\n",
      "                                                                                                                                 'split_gain': 2.826240062713623,\n",
      "                                                                                                                                 'split_index': 12,\n",
      "                                                                                                                                 'threshold': 26.500000000000004},\n",
      "                                                                                                                  'missing_type': 'None',\n",
      "                                                                                                                  'right_child': {'decision_type': '<=',\n",
      "                                                                                                                                  'default_left': True,\n",
      "                                                                                                                                  'internal_count': 56,\n",
      "                                                                                                                                  'internal_value': -1.63517,\n",
      "                                                                                                                                  'left_child': {'leaf_count': 33,\n",
      "                                                                                                                                                 'leaf_index': 12,\n",
      "                                                                                                                                                 'leaf_value': -0.6173787100454133},\n",
      "                                                                                                                                  'missing_type': 'None',\n",
      "                                                                                                                                  'right_child': {'leaf_count': 23,\n",
      "                                                                                                                                                  'leaf_index': 20,\n",
      "                                                                                                                                                  'leaf_value': -0.6173787100454133},\n",
      "                                                                                                                                  'split_feature': 1,\n",
      "                                                                                                                                  'split_gain': 7.105429898699844e-15,\n",
      "                                                                                                                                  'split_index': 19,\n",
      "                                                                                                                                  'threshold': 507.50000000000006},\n",
      "                                                                                                                  'split_feature': 3,\n",
      "                                                                                                                  'split_gain': 1.6586999893188477,\n",
      "                                                                                                                  'split_index': 11,\n",
      "                                                                                                                  'threshold': 32.25000000000001},\n",
      "                                                                                                  'split_feature': 6,\n",
      "                                                                                                  'split_gain': 3.10332989692688,\n",
      "                                                                                                  'split_index': 8,\n",
      "                                                                                                  'threshold': 216.50000000000003},\n",
      "                                                                                   'missing_type': 'None',\n",
      "                                                                                   'right_child': {'leaf_count': 24,\n",
      "                                                                                                   'leaf_index': 8,\n",
      "                                                                                                   'leaf_value': -0.4770603482087385},\n",
      "                                                                                   'split_feature': 6,\n",
      "                                                                                   'split_gain': 5.051459789276123,\n",
      "                                                                                   'split_index': 7,\n",
      "                                                                                   'threshold': 642.5000000000001},\n",
      "                                                                   'split_feature': 0,\n",
      "                                                                   'split_gain': 13.695300102233887,\n",
      "                                                                   'split_index': 4,\n",
      "                                                                   'threshold': 1.5000000000000002},\n",
      "                                                   'split_feature': 3,\n",
      "                                                   'split_gain': 16.622299194335938,\n",
      "                                                   'split_index': 2,\n",
      "                                                   'threshold': 15.500000000000002},\n",
      "                                   'split_feature': 2,\n",
      "                                   'split_gain': 184.16000366210938,\n",
      "                                   'split_index': 0,\n",
      "                                   'threshold': 1.0000000180025095e-35}}],\n",
      " 'version': 'v2'}\n"
     ]
    }
   ],
   "source": [
    "jsondata = gbm.dump_model()\n",
    "import pprint\n",
    "pp = pprint.PrettyPrinter()\n",
    "pp.pprint(jsondata)"
   ]
  },
  {
   "cell_type": "code",
   "execution_count": 27,
   "metadata": {},
   "outputs": [
    {
     "data": {
      "text/plain": [
       "<lightgbm.basic.Booster at 0x24c454bf588>"
      ]
     },
     "execution_count": 27,
     "metadata": {},
     "output_type": "execute_result"
    }
   ],
   "source": [
    "gbm.save_model('textModel.txt')"
   ]
  },
  {
   "cell_type": "code",
   "execution_count": 28,
   "metadata": {},
   "outputs": [],
   "source": [
    "tree_info = jsondata['tree_info']"
   ]
  },
  {
   "cell_type": "code",
   "execution_count": 29,
   "metadata": {},
   "outputs": [
    {
     "name": "stdout",
     "output_type": "stream",
     "text": [
      "[{'num_cat': 0,\n",
      "  'num_leaves': 22,\n",
      "  'shrinkage': 1,\n",
      "  'tree_index': 0,\n",
      "  'tree_structure': {'decision_type': '<=',\n",
      "                     'default_left': True,\n",
      "                     'internal_count': 623,\n",
      "                     'internal_value': 0,\n",
      "                     'left_child': {'decision_type': '<=',\n",
      "                                    'default_left': True,\n",
      "                                    'internal_count': 215,\n",
      "                                    'internal_value': 1.53668,\n",
      "                                    'left_child': {'decision_type': '<=',\n",
      "                                                   'default_left': True,\n",
      "                                                   'internal_count': 122,\n",
      "                                                   'internal_value': 2.29834,\n",
      "                                                   'left_child': {'decision_type': '<=',\n",
      "                                                                  'default_left': True,\n",
      "                                                                  'internal_count': 51,\n",
      "                                                                  'internal_value': 2.07914,\n",
      "                                                                  'left_child': {'leaf_count': 22,\n",
      "                                                                                 'leaf_index': 0,\n",
      "                                                                                 'leaf_value': -0.27296091280993884},\n",
      "                                                                  'missing_type': 'None',\n",
      "                                                                  'right_child': {'leaf_count': 29,\n",
      "                                                                                  'leaf_index': 17,\n",
      "                                                                                  'leaf_value': -0.22545500974297675},\n",
      "                                                                  'split_feature': 6,\n",
      "                                                                  'split_gain': 0.6706719994544983,\n",
      "                                                                  'split_index': 16,\n",
      "                                                                  'threshold': 160.50000000000003},\n",
      "                                                   'missing_type': 'None',\n",
      "                                                   'right_child': {'decision_type': '<=',\n",
      "                                                                   'default_left': True,\n",
      "                                                                   'internal_count': 71,\n",
      "                                                                   'internal_value': 2.4558,\n",
      "                                                                   'left_child': {'leaf_count': 20,\n",
      "                                                                                  'leaf_index': 16,\n",
      "                                                                                  'leaf_value': -0.23851913308639144},\n",
      "                                                                   'missing_type': 'None',\n",
      "                                                                   'right_child': {'leaf_count': 51,\n",
      "                                                                                   'leaf_index': 18,\n",
      "                                                                                   'leaf_value': -0.19642362453538886},\n",
      "                                                                   'split_feature': 1,\n",
      "                                                                   'split_gain': 0.6047520041465759,\n",
      "                                                                   'split_index': 17,\n",
      "                                                                   'threshold': 174.50000000000003},\n",
      "                                                   'split_feature': 7,\n",
      "                                                   'split_gain': 1.0003199577331543,\n",
      "                                                   'split_index': 15,\n",
      "                                                   'threshold': 28.856250000000003},\n",
      "                                    'missing_type': 'None',\n",
      "                                    'right_child': {'decision_type': '<=',\n",
      "                                                    'default_left': True,\n",
      "                                                    'internal_count': 93,\n",
      "                                                    'internal_value': 0.537501,\n",
      "                                                    'left_child': {'leaf_count': 37,\n",
      "                                                                   'leaf_index': 2,\n",
      "                                                                   'leaf_value': -0.298818104794584},\n",
      "                                                    'missing_type': 'None',\n",
      "                                                    'right_child': {'decision_type': '<=',\n",
      "                                                                    'default_left': True,\n",
      "                                                                    'internal_count': 56,\n",
      "                                                                    'internal_value': -0.13176,\n",
      "                                                                    'left_child': {'leaf_count': 34,\n",
      "                                                                                   'leaf_index': 4,\n",
      "                                                                                   'leaf_value': -0.40690116729040104},\n",
      "                                                                    'missing_type': 'None',\n",
      "                                                                    'right_child': {'leaf_count': 22,\n",
      "                                                                                    'leaf_index': 6,\n",
      "                                                                                    'leaf_value': -0.5599757438395008},\n",
      "                                                                    'split_feature': 7,\n",
      "                                                                    'split_gain': 7.435050010681152,\n",
      "                                                                    'split_index': 5,\n",
      "                                                                    'threshold': 21.037500000000005},\n",
      "                                                    'split_feature': 9,\n",
      "                                                    'split_gain': 14.97700023651123,\n",
      "                                                    'split_index': 3,\n",
      "                                                    'threshold': 1.5000000000000002},\n",
      "                                    'split_feature': 0,\n",
      "                                    'split_gain': 38.869598388671875,\n",
      "                                    'split_index': 1,\n",
      "                                    'threshold': 2.5000000000000004},\n",
      "                     'missing_type': 'None',\n",
      "                     'right_child': {'decision_type': '<=',\n",
      "                                     'default_left': True,\n",
      "                                     'internal_count': 408,\n",
      "                                     'internal_value': -0.809768,\n",
      "                                     'left_child': {'leaf_count': 29,\n",
      "                                                    'leaf_index': 1,\n",
      "                                                    'leaf_value': -0.38512762838471015},\n",
      "                                     'missing_type': 'None',\n",
      "                                     'right_child': {'decision_type': '<=',\n",
      "                                                     'default_left': True,\n",
      "                                                     'internal_count': 379,\n",
      "                                                     'internal_value': -0.924323,\n",
      "                                                     'left_child': {'decision_type': '<=',\n",
      "                                                                    'default_left': True,\n",
      "                                                                    'internal_count': 85,\n",
      "                                                                    'internal_value': -0.198971,\n",
      "                                                                    'left_child': {'decision_type': '<=',\n",
      "                                                                                   'default_left': True,\n",
      "                                                                                   'internal_count': 50,\n",
      "                                                                                   'internal_value': 0.301223,\n",
      "                                                                                   'left_child': {'leaf_count': 28,\n",
      "                                                                                                  'leaf_index': 3,\n",
      "                                                                                                  'leaf_value': -0.4670376080775474},\n",
      "                                                                                   'missing_type': 'None',\n",
      "                                                                                   'right_child': {'leaf_count': 22,\n",
      "                                                                                                   'leaf_index': 10,\n",
      "                                                                                                   'leaf_value': -0.3686325231531261},\n",
      "                                                                                   'split_feature': 8,\n",
      "                                                                                   'split_gain': 2.8340699672698975,\n",
      "                                                                                   'split_index': 9,\n",
      "                                                                                   'threshold': 59.50000000000001},\n",
      "                                                                    'missing_type': 'None',\n",
      "                                                                    'right_child': {'leaf_count': 35,\n",
      "                                                                                    'leaf_index': 7,\n",
      "                                                                                    'leaf_value': -0.5452149811008377},\n",
      "                                                                    'split_feature': 1,\n",
      "                                                                    'split_gain': 7.217080116271973,\n",
      "                                                                    'split_index': 6,\n",
      "                                                                    'threshold': 477.50000000000006},\n",
      "                                                     'missing_type': 'None',\n",
      "                                                     'right_child': {'decision_type': '<=',\n",
      "                                                                     'default_left': True,\n",
      "                                                                     'internal_count': 294,\n",
      "                                                                     'internal_value': -1.13403,\n",
      "                                                                     'left_child': {'decision_type': '<=',\n",
      "                                                                                    'default_left': True,\n",
      "                                                                                    'internal_count': 270,\n",
      "                                                                                    'internal_value': -1.21422,\n",
      "                                                                                    'left_child': {'decision_type': '<=',\n",
      "                                                                                                   'default_left': True,\n",
      "                                                                                                   'internal_count': 61,\n",
      "                                                                                                   'internal_value': -0.807062,\n",
      "                                                                                                   'left_child': {'leaf_count': 35,\n",
      "                                                                                                                  'leaf_index': 5,\n",
      "                                                                                                                  'leaf_value': -0.5692695574156962},\n",
      "                                                                                                   'missing_type': 'None',\n",
      "                                                                                                   'right_child': {'leaf_count': 26,\n",
      "                                                                                                                   'leaf_index': 11,\n",
      "                                                                                                                   'leaf_value': -0.48785406835002115},\n",
      "                                                                                                   'split_feature': 0,\n",
      "                                                                                                   'split_gain': 2.3490400314331055,\n",
      "                                                                                                   'split_index': 10,\n",
      "                                                                                                   'threshold': 2.5000000000000004},\n",
      "                                                                                    'missing_type': 'None',\n",
      "                                                                                    'right_child': {'decision_type': '<=',\n",
      "                                                                                                    'default_left': True,\n",
      "                                                                                                    'internal_count': 209,\n",
      "                                                                                                    'internal_value': -1.33305,\n",
      "                                                                                                    'left_child': {'decision_type': '<=',\n",
      "                                                                                                                   'default_left': True,\n",
      "                                                                                                                   'internal_count': 153,\n",
      "                                                                                                                   'internal_value': -1.22247,\n",
      "                                                                                                                   'left_child': {'decision_type': '<=',\n",
      "                                                                                                                                  'default_left': True,\n",
      "                                                                                                                                  'internal_count': 72,\n",
      "                                                                                                                                  'internal_value': -1.51824,\n",
      "                                                                                                                                  'left_child': {'leaf_count': 21,\n",
      "                                                                                                                                                 'leaf_index': 9,\n",
      "                                                                                                                                                 'leaf_value': -0.577287749520649},\n",
      "                                                                                                                                  'missing_type': 'None',\n",
      "                                                                                                                                  'right_child': {'decision_type': '<=',\n",
      "                                                                                                                                                  'default_left': True,\n",
      "                                                                                                                                                  'internal_count': 51,\n",
      "                                                                                                                                                  'internal_value': -1.63517,\n",
      "                                                                                                                                                  'left_child': {'leaf_count': 27,\n",
      "                                                                                                                                                                 'leaf_index': 19,\n",
      "                                                                                                                                                                 'leaf_value': -0.6173787100454133},\n",
      "                                                                                                                                                  'missing_type': 'None',\n",
      "                                                                                                                                                  'right_child': {'leaf_count': 24,\n",
      "                                                                                                                                                                  'leaf_index': 21,\n",
      "                                                                                                                                                                  'leaf_value': -0.6173787100454133},\n",
      "                                                                                                                                                  'split_feature': 1,\n",
      "                                                                                                                                                  'split_gain': 7.105429898699844e-15,\n",
      "                                                                                                                                                  'split_index': 20,\n",
      "                                                                                                                                                  'threshold': 362.50000000000006},\n",
      "                                                                                                                                  'split_feature': 7,\n",
      "                                                                                                                                  'split_gain': 0.5679550170898438,\n",
      "                                                                                                                                  'split_index': 18,\n",
      "                                                                                                                                  'threshold': 7.797900000000001},\n",
      "                                                                                                                   'missing_type': 'None',\n",
      "                                                                                                                   'right_child': {'decision_type': '<=',\n",
      "                                                                                                                                   'default_left': True,\n",
      "                                                                                                                                   'internal_count': 81,\n",
      "                                                                                                                                   'internal_value': -0.959564,\n",
      "                                                                                                                                   'left_child': {'decision_type': '<=',\n",
      "                                                                                                                                                  'default_left': True,\n",
      "                                                                                                                                                  'internal_count': 42,\n",
      "                                                                                                                                                  'internal_value': -0.632897,\n",
      "                                                                                                                                                  'left_child': {'leaf_count': 22,\n",
      "                                                                                                                                                                 'leaf_index': 13,\n",
      "                                                                                                                                                                 'leaf_value': -0.48343845556495096},\n",
      "                                                                                                                                                  'missing_type': 'None',\n",
      "                                                                                                                                                  'right_child': {'leaf_count': 20,\n",
      "                                                                                                                                                                  'leaf_index': 15,\n",
      "                                                                                                                                                                  'leaf_value': -0.5542354472189096},\n",
      "                                                                                                                                                  'split_feature': 1,\n",
      "                                                                                                                                                  'split_gain': 1.247380018234253,\n",
      "                                                                                                                                                  'split_index': 14,\n",
      "                                                                                                                                                  'threshold': 541.5000000000001},\n",
      "                                                                                                                                   'missing_type': 'None',\n",
      "                                                                                                                                   'right_child': {'leaf_count': 39,\n",
      "                                                                                                                                                   'leaf_index': 14,\n",
      "                                                                                                                                                   'leaf_value': -0.5849975496215652},\n",
      "                                                                                                                                   'split_feature': 6,\n",
      "                                                                                                                                   'split_gain': 2.211280107498169,\n",
      "                                                                                                                                   'split_index': 13,\n",
      "                                                                                                                                   'threshold': 445.50000000000006},\n",
      "                                                                                                                   'split_feature': 3,\n",
      "                                                                                                                   'split_gain': 2.826240062713623,\n",
      "                                                                                                                   'split_index': 12,\n",
      "                                                                                                                   'threshold': 26.500000000000004},\n",
      "                                                                                                    'missing_type': 'None',\n",
      "                                                                                                    'right_child': {'decision_type': '<=',\n",
      "                                                                                                                    'default_left': True,\n",
      "                                                                                                                    'internal_count': 56,\n",
      "                                                                                                                    'internal_value': -1.63517,\n",
      "                                                                                                                    'left_child': {'leaf_count': 33,\n",
      "                                                                                                                                   'leaf_index': 12,\n",
      "                                                                                                                                   'leaf_value': -0.6173787100454133},\n",
      "                                                                                                                    'missing_type': 'None',\n",
      "                                                                                                                    'right_child': {'leaf_count': 23,\n",
      "                                                                                                                                    'leaf_index': 20,\n",
      "                                                                                                                                    'leaf_value': -0.6173787100454133},\n",
      "                                                                                                                    'split_feature': 1,\n",
      "                                                                                                                    'split_gain': 7.105429898699844e-15,\n",
      "                                                                                                                    'split_index': 19,\n",
      "                                                                                                                    'threshold': 507.50000000000006},\n",
      "                                                                                                    'split_feature': 3,\n",
      "                                                                                                    'split_gain': 1.6586999893188477,\n",
      "                                                                                                    'split_index': 11,\n",
      "                                                                                                    'threshold': 32.25000000000001},\n",
      "                                                                                    'split_feature': 6,\n",
      "                                                                                    'split_gain': 3.10332989692688,\n",
      "                                                                                    'split_index': 8,\n",
      "                                                                                    'threshold': 216.50000000000003},\n",
      "                                                                     'missing_type': 'None',\n",
      "                                                                     'right_child': {'leaf_count': 24,\n",
      "                                                                                     'leaf_index': 8,\n",
      "                                                                                     'leaf_value': -0.4770603482087385},\n",
      "                                                                     'split_feature': 6,\n",
      "                                                                     'split_gain': 5.051459789276123,\n",
      "                                                                     'split_index': 7,\n",
      "                                                                     'threshold': 642.5000000000001},\n",
      "                                                     'split_feature': 0,\n",
      "                                                     'split_gain': 13.695300102233887,\n",
      "                                                     'split_index': 4,\n",
      "                                                     'threshold': 1.5000000000000002},\n",
      "                                     'split_feature': 3,\n",
      "                                     'split_gain': 16.622299194335938,\n",
      "                                     'split_index': 2,\n",
      "                                     'threshold': 15.500000000000002},\n",
      "                     'split_feature': 2,\n",
      "                     'split_gain': 184.16000366210938,\n",
      "                     'split_index': 0,\n",
      "                     'threshold': 1.0000000180025095e-35}}]\n"
     ]
    }
   ],
   "source": [
    "pp.pprint(tree_info)"
   ]
  },
  {
   "cell_type": "code",
   "execution_count": null,
   "metadata": {},
   "outputs": [],
   "source": []
  },
  {
   "cell_type": "code",
   "execution_count": null,
   "metadata": {},
   "outputs": [],
   "source": []
  },
  {
   "cell_type": "raw",
   "metadata": {},
   "source": [
    "#FILE RECONSTRUCT"
   ]
  },
  {
   "cell_type": "code",
   "execution_count": 30,
   "metadata": {},
   "outputs": [],
   "source": [
    "newgbm = lgb.basic.Booster(params = {'model_str' : open('textModel.txt', \"r\").read()})"
   ]
  },
  {
   "cell_type": "code",
   "execution_count": 31,
   "metadata": {},
   "outputs": [],
   "source": [
    "frcprediction = newgbm.predict(X_test)"
   ]
  },
  {
   "cell_type": "code",
   "execution_count": 32,
   "metadata": {},
   "outputs": [],
   "source": [
    "frcencodedPrediction = [1 if x > 0.50 else 0 for x in frcprediction] "
   ]
  },
  {
   "cell_type": "code",
   "execution_count": 33,
   "metadata": {},
   "outputs": [
    {
     "name": "stdout",
     "output_type": "stream",
     "text": [
      "0.6268656716417911\n",
      "[[168   0]\n",
      " [100   0]]\n"
     ]
    }
   ],
   "source": [
    "print(accuracy_score(y_test, frcencodedPrediction))\n",
    "print(confusion_matrix(y_test, frcencodedPrediction))"
   ]
  },
  {
   "cell_type": "code",
   "execution_count": 34,
   "metadata": {},
   "outputs": [
    {
     "data": {
      "text/plain": [
       "0.6268656716417911"
      ]
     },
     "execution_count": 34,
     "metadata": {},
     "output_type": "execute_result"
    }
   ],
   "source": [
    "0.6268656716417911"
   ]
  },
  {
   "cell_type": "code",
   "execution_count": 35,
   "metadata": {},
   "outputs": [
    {
     "data": {
      "text/plain": [
       "<lightgbm.basic.Booster at 0x24c46c41b38>"
      ]
     },
     "execution_count": 35,
     "metadata": {},
     "output_type": "execute_result"
    }
   ],
   "source": [
    "newgbm.save_model('frctextModel.txt')"
   ]
  },
  {
   "cell_type": "code",
   "execution_count": null,
   "metadata": {},
   "outputs": [],
   "source": []
  },
  {
   "cell_type": "code",
   "execution_count": null,
   "metadata": {},
   "outputs": [],
   "source": []
  },
  {
   "cell_type": "markdown",
   "metadata": {},
   "source": [
    "#PMML RECONSTRUCT"
   ]
  },
  {
   "cell_type": "code",
   "execution_count": 36,
   "metadata": {},
   "outputs": [],
   "source": [
    "import pmml_to_lgbmTrainAPI"
   ]
  },
  {
   "cell_type": "code",
   "execution_count": 37,
   "metadata": {},
   "outputs": [
    {
     "name": "stdout",
     "output_type": "stream",
     "text": [
      "184.16000366210938 38.869598388671875 2.3490400314331055 1.6586999893188477 2.826240062713623 2.211280107498169 1.247380018234253 1.0003199577331543 0.6706719994544983 0.6047520041465759 0.5679550170898438 7.105429898699844e-15 16.622299194335938 7.105429898699844e-15 14.97700023651123 13.695300102233887 7.435050010681152 7.217080116271973 5.051459789276123 3.10332989692688 2.8340699672698975\n"
     ]
    }
   ],
   "source": [
    "reconstructed_model = pmml_to_lgbmTrainAPI.reconstruct(filename)"
   ]
  },
  {
   "cell_type": "code",
   "execution_count": 38,
   "metadata": {},
   "outputs": [],
   "source": [
    "rcprediction = reconstructed_model.predict(X_test)"
   ]
  },
  {
   "cell_type": "code",
   "execution_count": 39,
   "metadata": {},
   "outputs": [],
   "source": [
    "rcencodedPrediction = [1 if x > 0.50 else 0 for x in rcprediction]"
   ]
  },
  {
   "cell_type": "code",
   "execution_count": 40,
   "metadata": {},
   "outputs": [
    {
     "name": "stdout",
     "output_type": "stream",
     "text": [
      "0.6268656716417911\n",
      "[[168   0]\n",
      " [100   0]]\n"
     ]
    }
   ],
   "source": [
    "print(accuracy_score(y_test, rcencodedPrediction))\n",
    "print(confusion_matrix(y_test, rcencodedPrediction))"
   ]
  },
  {
   "cell_type": "code",
   "execution_count": 41,
   "metadata": {},
   "outputs": [],
   "source": [
    "# model has not been reconstructed properly \n",
    "# Reason\n",
    "# Left Child and Right Child values\n",
    "# Order of other tree values\n",
    "# TODO\n",
    "# Compare Tempfile.txt and textModel.txt"
   ]
  }
 ],
 "metadata": {
  "kernelspec": {
   "display_name": "Python 3",
   "language": "python",
   "name": "python3"
  },
  "language_info": {
   "codemirror_mode": {
    "name": "ipython",
    "version": 3
   },
   "file_extension": ".py",
   "mimetype": "text/x-python",
   "name": "python",
   "nbconvert_exporter": "python",
   "pygments_lexer": "ipython3",
   "version": "3.6.8"
  }
 },
 "nbformat": 4,
 "nbformat_minor": 2
}
