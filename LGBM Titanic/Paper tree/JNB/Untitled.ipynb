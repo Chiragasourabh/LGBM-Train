{
 "cells": [
  {
   "cell_type": "code",
   "execution_count": 7,
   "metadata": {},
   "outputs": [],
   "source": [
    "from binarytree import Node\n"
   ]
  },
  {
   "cell_type": "code",
   "execution_count": null,
   "metadata": {},
   "outputs": [],
   "source": []
  },
  {
   "cell_type": "code",
   "execution_count": 27,
   "metadata": {},
   "outputs": [],
   "source": [
    "root = Node(184.1600)\n",
    "root.left = Node(38.869)\n",
    "root.right = Node(16.622)\n",
    "root.right.right = Node(13.695)\n",
    "root.right.right.right = Node(5.0514)\n",
    "root.right.right.left = Node(7.2170)\n",
    "root.right.right.left.left = Node(2.834)\n",
    "root.right.right.right.left = Node(3.1033)\n",
    "root.right.right.right.left.left = Node(2.3490)\n",
    "root.right.right.right.left.right = Node(1.6586)\n",
    "root.right.right.right.left.right.right = Node(7.105)\n",
    "root.right.right.right.left.right.left = Node(2.8262)\n",
    "root.right.right.right.left.right.left.left = Node(0.5679)\n",
    "root.right.right.right.left.right.left.right = Node(2.2112)\n",
    "root.right.right.right.left.right.left.left.right = Node(7.1054)\n",
    "root.right.right.right.left.right.left.right.left = Node(1.247)\n",
    "\n",
    "root.left.left = Node(1.00031)\n",
    "root.left.right = Node(14.977)\n",
    "root.left.right.right = Node(7.43)\n",
    "root.left.left.right = Node(0.6047)\n",
    "root.left.left.left = Node(0.6706)"
   ]
  },
  {
   "cell_type": "code",
   "execution_count": 28,
   "metadata": {},
   "outputs": [
    {
     "name": "stdout",
     "output_type": "stream",
     "text": [
      "\n",
      "                          _______________184.16__\n",
      "                         /                       \\\n",
      "            __________38.869__                  16.622______________\n",
      "           /                  \\                                     \\\n",
      "    ___1.00031__             14.977_                             __13.695______________________________________________________________\n",
      "   /            \\                   \\                           /                                                                      \\\n",
      "0.6706         0.6047               7.43                   __7.217                  __________________________________________________5.0514\n",
      "                                                          /                        /\n",
      "                                                       2.834                  __3.1033____________________________________\n",
      "                                                                             /                                            \\\n",
      "                                                                          2.349                          ________________1.6586__\n",
      "                                                                                                        /                        \\\n",
      "                                                                                           __________2.8262________             7.105\n",
      "                                                                                          /                        \\\n",
      "                                                                                       0.5679__                 __2.2112\n",
      "                                                                                               \\               /\n",
      "                                                                                              7.1054        1.247\n",
      "\n"
     ]
    }
   ],
   "source": [
    "print(root)"
   ]
  },
  {
   "cell_type": "code",
   "execution_count": null,
   "metadata": {},
   "outputs": [],
   "source": []
  },
  {
   "cell_type": "code",
   "execution_count": null,
   "metadata": {},
   "outputs": [],
   "source": []
  },
  {
   "cell_type": "code",
   "execution_count": null,
   "metadata": {},
   "outputs": [],
   "source": []
  }
 ],
 "metadata": {
  "kernelspec": {
   "display_name": "Python 3",
   "language": "python",
   "name": "python3"
  },
  "language_info": {
   "codemirror_mode": {
    "name": "ipython",
    "version": 3
   },
   "file_extension": ".py",
   "mimetype": "text/x-python",
   "name": "python",
   "nbconvert_exporter": "python",
   "pygments_lexer": "ipython3",
   "version": "3.6.8"
  }
 },
 "nbformat": 4,
 "nbformat_minor": 2
}
