{
 "cells": [
  {
   "cell_type": "code",
   "execution_count": 1,
   "metadata": {
    "ExecuteTime": {
     "end_time": "2018-04-25T07:59:17.376857Z",
     "start_time": "2018-04-25T07:59:17.173857Z"
    }
   },
   "outputs": [
    {
     "data": {
      "text/plain": [
       "'C:\\\\Users\\\\nibo\\\\AppData\\\\Local\\\\Continuum\\\\anaconda3\\\\lib\\\\site-packages\\\\nyoka\\\\PMML43Ext.py'"
      ]
     },
     "execution_count": 1,
     "metadata": {},
     "output_type": "execute_result"
    }
   ],
   "source": [
    "import sys\n",
    "from nyoka import PMML44 as ny\n",
    "ny.__file__\n"
   ]
  },
  {
   "cell_type": "markdown",
   "metadata": {},
   "source": [
    "# Nyoka - Gaussian Distribution issue"
   ]
  },
  {
   "cell_type": "code",
   "execution_count": 2,
   "metadata": {
    "ExecuteTime": {
     "end_time": "2018-04-25T07:59:19.238857Z",
     "start_time": "2018-04-25T07:59:19.228857Z"
    }
   },
   "outputs": [
    {
     "name": "stdout",
     "output_type": "stream",
     "text": [
      "<TargetValueStat value=\"0\">\n",
      "    <GaussianDistribution mean=\"0.3\" variance=\"2.5\"/>\n",
      "</TargetValueStat>\n"
     ]
    }
   ],
   "source": [
    "gb = ny.TargetValueStat(0,GaussianDistribution=ny.GaussianDistribution(mean=0.3,variance=2.5))\n",
    "gb.export(sys.stdout,0,'')"
   ]
  },
  {
   "cell_type": "markdown",
   "metadata": {},
   "source": [
    "# Nyoka - MapValues issue"
   ]
  },
  {
   "cell_type": "code",
   "execution_count": 3,
   "metadata": {
    "ExecuteTime": {
     "end_time": "2018-04-25T07:59:35.176857Z",
     "start_time": "2018-04-25T07:59:34.953857Z"
    }
   },
   "outputs": [
    {
     "name": "stdout",
     "output_type": "stream",
     "text": [
      "<row>\n",
      "    <input/>\n",
      "    <output>\n",
      "        M\n",
      "    </output>\n",
      "</row>\n"
     ]
    }
   ],
   "source": [
    "row_main = ny.row()\n",
    "row_short = ny.row()\n",
    "row_short.original_tagname_ = 'input'\n",
    "row_long = ny.row('M')     #row cannot export any str,int,float \n",
    "row_long.original_tagname_ = 'output'\n",
    "row_main.add_anytypeobjs_(row_short)\n",
    "row_main.add_anytypeobjs_(row_long)\n",
    "row_main.export(sys.stdout,0,'')"
   ]
  },
  {
   "cell_type": "code",
   "execution_count": 4,
   "metadata": {
    "ExecuteTime": {
     "end_time": "2018-04-25T07:59:38.919857Z",
     "start_time": "2018-04-25T07:59:38.883857Z"
    }
   },
   "outputs": [
    {
     "name": "stdout",
     "output_type": "stream",
     "text": [
      "<DerivedField name=\"label_encoder(gender)\" optype=\"categorical\" dataType=\"string\">\n",
      "    <MapValues outputColumn=\"output\">\n",
      "        <FieldColumnPair field=\"gender\" column=\"input\"/>\n",
      "        <InlineTable>\n",
      "            <row>\n",
      "                <input/>\n",
      "                <output>\n",
      "                    M\n",
      "                </output>\n",
      "            </row>\n",
      "        </InlineTable>\n",
      "    </MapValues>\n",
      "</DerivedField>\n"
     ]
    }
   ],
   "source": [
    "map_val = ny.MapValues(FieldColumnPair=[ny.FieldColumnPair(field='gender',column='input')],outputColumn='output',InlineTable=ny.InlineTable(row=[row_main]))\n",
    "der_field = ny.DerivedField(name=\"label_encoder(gender)\",optype='categorical',dataType='string',MapValues=map_val)\n",
    "\n",
    "der_field.export(sys.stdout,0,'')"
   ]
  },
  {
   "cell_type": "code",
   "execution_count": 5,
   "metadata": {},
   "outputs": [],
   "source": []
  }
 ],
 "metadata": {
  "kernelspec": {
   "display_name": "Python 3",
   "language": "python",
   "name": "python3"
  },
  "language_info": {
   "codemirror_mode": {
    "name": "ipython",
    "version": 3
   },
   "file_extension": ".py",
   "mimetype": "text/x-python",
   "name": "python",
   "nbconvert_exporter": "python",
   "pygments_lexer": "ipython3",
   "version": "3.6.1"
  }
 },
 "nbformat": 4,
 "nbformat_minor": 2
}
