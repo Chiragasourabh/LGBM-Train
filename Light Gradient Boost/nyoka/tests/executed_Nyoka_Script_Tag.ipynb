{
 "cells": [
  {
   "cell_type": "markdown",
   "metadata": {},
   "source": [
    "### Import the required libraries"
   ]
  },
  {
   "cell_type": "code",
   "execution_count": 1,
   "metadata": {
    "ExecuteTime": {
     "end_time": "2018-05-07T09:07:30.299457Z",
     "start_time": "2018-05-07T09:07:30.201058Z"
    }
   },
   "outputs": [],
   "source": [
    "import sys\n",
    "from nyoka import PMML43Ext as ny\n",
    "from datetime import datetime"
   ]
  },
  {
   "cell_type": "markdown",
   "metadata": {},
   "source": [
    "### Define a pre-processing function"
   ]
  },
  {
   "cell_type": "code",
   "execution_count": 2,
   "metadata": {
    "ExecuteTime": {
     "end_time": "2018-05-07T09:07:32.396627Z",
     "start_time": "2018-05-07T09:07:32.395627Z"
    }
   },
   "outputs": [],
   "source": [
    "def pre_process(df):\n",
    "    import pandas as pd\n",
    "    df['z'] = df['x'] + df['y']"
   ]
  },
  {
   "cell_type": "markdown",
   "metadata": {},
   "source": [
    "### Using Inspect library to get pre-process function's source"
   ]
  },
  {
   "cell_type": "code",
   "execution_count": 3,
   "metadata": {
    "ExecuteTime": {
     "end_time": "2018-05-07T09:07:33.207220Z",
     "start_time": "2018-05-07T09:07:33.206220Z"
    }
   },
   "outputs": [
    {
     "data": {
      "text/plain": [
       "\"def pre_process(df):\\n    import pandas as pd\\n    df['z'] = df['x'] + df['y']\\n\""
      ]
     },
     "execution_count": 3,
     "metadata": {},
     "output_type": "execute_result"
    }
   ],
   "source": [
    "import inspect\n",
    "inspect.getsource(pre_process)"
   ]
  },
  {
   "cell_type": "markdown",
   "metadata": {},
   "source": [
    "### Using Nyoka \"script\" class to export our function"
   ]
  },
  {
   "cell_type": "code",
   "execution_count": 4,
   "metadata": {
    "ExecuteTime": {
     "end_time": "2018-05-07T09:07:35.058995Z",
     "start_time": "2018-05-07T09:07:34.830799Z"
    },
    "scrolled": true
   },
   "outputs": [
    {
     "name": "stdout",
     "output_type": "stream",
     "text": [
      "<script for=\"modelName\" class=\"preprocessing\">\n",
      "    def pre_process(df):\n",
      "        import pandas as pd\n",
      "        df['z'] = df['x'] + df['y']\n",
      "</script>\n"
     ]
    }
   ],
   "source": [
    "scr = ny.script(content=inspect.getsource(pre_process), for_=\"modelName\", class_=\"preprocessing\")\n",
    "scr.export(sys.stdout,0,\"\")"
   ]
  },
  {
   "cell_type": "markdown",
   "metadata": {},
   "source": [
    "### Checking the same with pmml object"
   ]
  },
  {
   "cell_type": "code",
   "execution_count": 5,
   "metadata": {
    "ExecuteTime": {
     "end_time": "2018-05-07T09:07:36.177183Z",
     "start_time": "2018-05-07T09:07:36.175183Z"
    }
   },
   "outputs": [
    {
     "name": "stdout",
     "output_type": "stream",
     "text": [
      "PMML generated successfully.\n",
      "Your PMML file name is preprocessing_using_script_tag.pmml.\n"
     ]
    }
   ],
   "source": [
    "pmml = ny.PMML(version=\"4.3Ext\",script=[ny.script(content=inspect.getsource(pre_process),for_=\"modelName\")],\n",
    "                    Header=ny.Header(copyright=\"Copyright (c) 2018 Software AG\",\n",
    "                                description=\"DEMO!!!\",\n",
    "                                Timestamp=ny.Timestamp(datetime.now())))\n",
    "                                \n",
    "        \n",
    "pmml_f_path = \"preprocessing_using_script_tag.pmml\"\n",
    "pmml.export(open(pmml_f_path, \"w\"), 0, \"\")\n",
    "import os\n",
    "if os.path.exists(pmml_f_path):\n",
    "    print(\"PMML generated successfully.\")\n",
    "    print(\"Your PMML file name is \" + pmml_f_path + \".\")"
   ]
  },
  {
   "cell_type": "code",
   "execution_count": 6,
   "metadata": {},
   "outputs": [],
   "source": []
  }
 ],
 "metadata": {
  "kernelspec": {
   "display_name": "Python 3",
   "language": "python",
   "name": "python3"
  },
  "language_info": {
   "codemirror_mode": {
    "name": "ipython",
    "version": 3
   },
   "file_extension": ".py",
   "mimetype": "text/x-python",
   "name": "python",
   "nbconvert_exporter": "python",
   "pygments_lexer": "ipython3",
   "version": "3.6.1"
  }
 },
 "nbformat": 4,
 "nbformat_minor": 2
}
