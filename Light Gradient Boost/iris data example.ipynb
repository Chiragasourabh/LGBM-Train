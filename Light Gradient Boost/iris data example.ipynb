{
 "cells": [
  {
   "cell_type": "code",
   "execution_count": 1,
   "metadata": {},
   "outputs": [],
   "source": [
    "import lightgbm as lgb\n",
    "import pandas as pd"
   ]
  },
  {
   "cell_type": "code",
   "execution_count": 2,
   "metadata": {},
   "outputs": [],
   "source": [
    "df = pd.read_csv(\"Iris.csv\")"
   ]
  },
  {
   "cell_type": "code",
   "execution_count": 3,
   "metadata": {},
   "outputs": [],
   "source": [
    "#Defining data and label\n",
    "X = df.iloc[:, 1:5]\n",
    "y = df.iloc[:, 5]"
   ]
  },
  {
   "cell_type": "code",
   "execution_count": 4,
   "metadata": {},
   "outputs": [],
   "source": [
    "# X.columns"
   ]
  },
  {
   "cell_type": "code",
   "execution_count": 5,
   "metadata": {},
   "outputs": [],
   "source": [
    "from sklearn.preprocessing import StandardScaler\n",
    "from sklearn.preprocessing import LabelEncoder\n",
    "from sklearn.model_selection import train_test_split\n",
    "\n",
    "X_train, X_test, y_train, y_test = train_test_split(X, y, test_size=0.3, random_state=0) \n",
    "\n",
    "le = LabelEncoder()\n",
    "sc = StandardScaler()\n",
    "sc.fit(X)\n",
    "le.fit(y)\n",
    "# X_train_std = sc.transform(X_train)\n",
    "# X_test_std = sc.transform(X_test)\n",
    "Y_train_std = le.transform(y_train)\n",
    "Y_test_std = le.transform(y_test)"
   ]
  },
  {
   "cell_type": "code",
   "execution_count": null,
   "metadata": {},
   "outputs": [],
   "source": []
  },
  {
   "cell_type": "code",
   "execution_count": 6,
   "metadata": {},
   "outputs": [
    {
     "data": {
      "text/plain": [
       "105"
      ]
     },
     "execution_count": 6,
     "metadata": {},
     "output_type": "execute_result"
    }
   ],
   "source": [
    "len(X_train)"
   ]
  },
  {
   "cell_type": "code",
   "execution_count": 7,
   "metadata": {},
   "outputs": [
    {
     "data": {
      "text/plain": [
       "array([1, 2, 2, 2, 2, 1, 2, 1, 1, 2, 2, 2, 2, 1, 2, 1, 0, 2, 1, 1, 1, 1,\n",
       "       2, 0, 0, 2, 1, 0, 0, 1, 0, 2, 1, 0, 1, 2, 1, 0, 2, 2, 2, 2, 0, 0,\n",
       "       2, 2, 0, 2, 0, 2, 2, 0, 0, 2, 0, 0, 0, 1, 2, 2, 0, 0, 0, 1, 1, 0,\n",
       "       0, 1, 0, 2, 1, 2, 1, 0, 2, 0, 2, 0, 0, 2, 0, 2, 1, 1, 1, 2, 2, 1,\n",
       "       1, 0, 1, 2, 2, 0, 1, 1, 1, 1, 0, 0, 0, 2, 1, 2, 0])"
      ]
     },
     "execution_count": 7,
     "metadata": {},
     "output_type": "execute_result"
    }
   ],
   "source": [
    "Y_train_std"
   ]
  },
  {
   "cell_type": "code",
   "execution_count": null,
   "metadata": {},
   "outputs": [],
   "source": []
  },
  {
   "cell_type": "code",
   "execution_count": null,
   "metadata": {},
   "outputs": [],
   "source": []
  },
  {
   "cell_type": "code",
   "execution_count": null,
   "metadata": {},
   "outputs": [],
   "source": []
  },
  {
   "cell_type": "code",
   "execution_count": null,
   "metadata": {},
   "outputs": [],
   "source": []
  },
  {
   "cell_type": "code",
   "execution_count": null,
   "metadata": {},
   "outputs": [],
   "source": []
  },
  {
   "cell_type": "code",
   "execution_count": null,
   "metadata": {},
   "outputs": [],
   "source": []
  },
  {
   "cell_type": "code",
   "execution_count": null,
   "metadata": {},
   "outputs": [],
   "source": []
  },
  {
   "cell_type": "code",
   "execution_count": null,
   "metadata": {},
   "outputs": [],
   "source": []
  },
  {
   "cell_type": "code",
   "execution_count": 8,
   "metadata": {},
   "outputs": [
    {
     "data": {
      "text/plain": [
       "[6.0, 2.2, 4.0, 1.0]"
      ]
     },
     "execution_count": 8,
     "metadata": {},
     "output_type": "execute_result"
    }
   ],
   "source": [
    "[6.0, 2.2, 4.0, 1.0]"
   ]
  },
  {
   "cell_type": "code",
   "execution_count": null,
   "metadata": {},
   "outputs": [],
   "source": []
  },
  {
   "cell_type": "code",
   "execution_count": null,
   "metadata": {},
   "outputs": [],
   "source": []
  },
  {
   "cell_type": "code",
   "execution_count": 16,
   "metadata": {},
   "outputs": [],
   "source": [
    "# create dataset for lightgbm\n",
    "lgb_train = lgb.Dataset(X_train, Y_train_std , free_raw_data=False)\n",
    "lgb_eval = lgb.Dataset(X_test, Y_test_std, reference=lgb_train, free_raw_data=False)\n",
    "\n",
    "# specify your configurations as a dict\n",
    "params = {\n",
    "    'boosting_type': 'gbdt',\n",
    "    'objective': 'binary',\n",
    "    'metric': 'binary_error',\n",
    "    'num_leaves': 31,\n",
    "    'learning_rate': 0.05,\n",
    "    'feature_fraction': 0.9,\n",
    "    'bagging_fraction': 0.8,\n",
    "    'bagging_freq': 5,\n",
    "    'verbose': 20\n",
    "}"
   ]
  },
  {
   "cell_type": "code",
   "execution_count": 18,
   "metadata": {
    "scrolled": true
   },
   "outputs": [
    {
     "name": "stdout",
     "output_type": "stream",
     "text": [
      "Starting training...\n",
      "[1]\tvalid_0's binary_error: 0.355556\n",
      "[2]\tvalid_0's binary_error: 0.355556\n",
      "[3]\tvalid_0's binary_error: 0.355556\n",
      "[4]\tvalid_0's binary_error: 0.355556\n",
      "[5]\tvalid_0's binary_error: 0.355556\n",
      "[6]\tvalid_0's binary_error: 0.0222222\n",
      "[7]\tvalid_0's binary_error: 0.0222222\n",
      "[8]\tvalid_0's binary_error: 0\n",
      "[9]\tvalid_0's binary_error: 0\n",
      "[10]\tvalid_0's binary_error: 0\n",
      "[11]\tvalid_0's binary_error: 0\n",
      "[12]\tvalid_0's binary_error: 0\n",
      "[13]\tvalid_0's binary_error: 0\n",
      "[14]\tvalid_0's binary_error: 0\n",
      "[15]\tvalid_0's binary_error: 0\n",
      "[16]\tvalid_0's binary_error: 0\n",
      "[17]\tvalid_0's binary_error: 0\n",
      "[18]\tvalid_0's binary_error: 0\n",
      "[19]\tvalid_0's binary_error: 0\n",
      "[20]\tvalid_0's binary_error: 0\n",
      "[21]\tvalid_0's binary_error: 0\n",
      "[22]\tvalid_0's binary_error: 0\n",
      "[23]\tvalid_0's binary_error: 0\n",
      "[24]\tvalid_0's binary_error: 0\n",
      "[25]\tvalid_0's binary_error: 0\n",
      "[26]\tvalid_0's binary_error: 0\n",
      "[27]\tvalid_0's binary_error: 0\n",
      "[28]\tvalid_0's binary_error: 0\n",
      "[29]\tvalid_0's binary_error: 0\n",
      "[30]\tvalid_0's binary_error: 0\n",
      "[31]\tvalid_0's binary_error: 0\n",
      "[32]\tvalid_0's binary_error: 0\n",
      "[33]\tvalid_0's binary_error: 0\n",
      "[34]\tvalid_0's binary_error: 0\n",
      "[35]\tvalid_0's binary_error: 0\n",
      "[36]\tvalid_0's binary_error: 0\n",
      "[37]\tvalid_0's binary_error: 0\n",
      "[38]\tvalid_0's binary_error: 0\n",
      "[39]\tvalid_0's binary_error: 0\n",
      "[40]\tvalid_0's binary_error: 0\n",
      "[41]\tvalid_0's binary_error: 0\n",
      "[42]\tvalid_0's binary_error: 0\n",
      "[43]\tvalid_0's binary_error: 0\n",
      "[44]\tvalid_0's binary_error: 0\n",
      "[45]\tvalid_0's binary_error: 0\n",
      "[46]\tvalid_0's binary_error: 0\n",
      "[47]\tvalid_0's binary_error: 0\n",
      "[48]\tvalid_0's binary_error: 0\n",
      "[49]\tvalid_0's binary_error: 0\n",
      "[50]\tvalid_0's binary_error: 0\n",
      "[51]\tvalid_0's binary_error: 0\n",
      "[52]\tvalid_0's binary_error: 0\n",
      "[53]\tvalid_0's binary_error: 0\n",
      "[54]\tvalid_0's binary_error: 0\n",
      "[55]\tvalid_0's binary_error: 0\n",
      "[56]\tvalid_0's binary_error: 0\n",
      "[57]\tvalid_0's binary_error: 0\n",
      "[58]\tvalid_0's binary_error: 0\n",
      "[59]\tvalid_0's binary_error: 0\n",
      "[60]\tvalid_0's binary_error: 0\n",
      "[61]\tvalid_0's binary_error: 0\n",
      "[62]\tvalid_0's binary_error: 0\n",
      "[63]\tvalid_0's binary_error: 0\n",
      "[64]\tvalid_0's binary_error: 0\n",
      "[65]\tvalid_0's binary_error: 0\n",
      "[66]\tvalid_0's binary_error: 0\n",
      "[67]\tvalid_0's binary_error: 0\n",
      "[68]\tvalid_0's binary_error: 0\n",
      "[69]\tvalid_0's binary_error: 0\n",
      "[70]\tvalid_0's binary_error: 0\n",
      "[71]\tvalid_0's binary_error: 0\n",
      "[72]\tvalid_0's binary_error: 0\n",
      "[73]\tvalid_0's binary_error: 0\n",
      "[74]\tvalid_0's binary_error: 0\n",
      "[75]\tvalid_0's binary_error: 0\n",
      "[76]\tvalid_0's binary_error: 0\n",
      "[77]\tvalid_0's binary_error: 0\n",
      "[78]\tvalid_0's binary_error: 0\n",
      "[79]\tvalid_0's binary_error: 0\n",
      "[80]\tvalid_0's binary_error: 0\n",
      "[81]\tvalid_0's binary_error: 0\n",
      "[82]\tvalid_0's binary_error: 0\n",
      "[83]\tvalid_0's binary_error: 0\n",
      "[84]\tvalid_0's binary_error: 0\n",
      "[85]\tvalid_0's binary_error: 0\n",
      "[86]\tvalid_0's binary_error: 0\n",
      "[87]\tvalid_0's binary_error: 0\n",
      "[88]\tvalid_0's binary_error: 0\n",
      "[89]\tvalid_0's binary_error: 0\n",
      "[90]\tvalid_0's binary_error: 0\n",
      "[91]\tvalid_0's binary_error: 0\n",
      "[92]\tvalid_0's binary_error: 0\n",
      "[93]\tvalid_0's binary_error: 0\n",
      "[94]\tvalid_0's binary_error: 0\n",
      "[95]\tvalid_0's binary_error: 0\n",
      "[96]\tvalid_0's binary_error: 0\n",
      "[97]\tvalid_0's binary_error: 0\n",
      "[98]\tvalid_0's binary_error: 0\n",
      "[99]\tvalid_0's binary_error: 0\n",
      "[100]\tvalid_0's binary_error: 0\n"
     ]
    }
   ],
   "source": [
    "print('Starting training...')\n",
    "gbm = lgb.train(params,\n",
    "                lgb_train,\n",
    "                num_boost_round=100,\n",
    "                valid_sets=lgb_eval,\n",
    "#                 early_stopping_rounds=4,\n",
    "                verbose_eval = True\n",
    "               )"
   ]
  },
  {
   "cell_type": "code",
   "execution_count": 11,
   "metadata": {},
   "outputs": [
    {
     "data": {
      "text/plain": [
       "<lightgbm.basic.Booster at 0x29c87dd2be0>"
      ]
     },
     "execution_count": 11,
     "metadata": {},
     "output_type": "execute_result"
    }
   ],
   "source": [
    "# # save model to file\n",
    "gbm.save_model('iris_data_example_model.txt')"
   ]
  },
  {
   "cell_type": "code",
   "execution_count": 12,
   "metadata": {},
   "outputs": [],
   "source": [
    "# print('Starting predicting...')\n",
    "# predict\n",
    "# y_pred = gbm.predict(X_test, num_iteration=gbm.best_iteration)\n",
    "# eval"
   ]
  },
  {
   "cell_type": "code",
   "execution_count": 13,
   "metadata": {},
   "outputs": [],
   "source": [
    "# model_string = gbm.model_to_string()\n",
    "# print(model_string)"
   ]
  },
  {
   "cell_type": "code",
   "execution_count": null,
   "metadata": {},
   "outputs": [],
   "source": []
  },
  {
   "cell_type": "code",
   "execution_count": 14,
   "metadata": {},
   "outputs": [],
   "source": [
    "# X_train.max()"
   ]
  },
  {
   "cell_type": "code",
   "execution_count": 15,
   "metadata": {},
   "outputs": [],
   "source": [
    "# X_train.min()"
   ]
  },
  {
   "cell_type": "code",
   "execution_count": 12,
   "metadata": {},
   "outputs": [],
   "source": [
    "jsondata = gbm.dump_model()"
   ]
  },
  {
   "cell_type": "code",
   "execution_count": 13,
   "metadata": {},
   "outputs": [],
   "source": [
    "import pprint\n",
    "pp = pprint.PrettyPrinter()"
   ]
  },
  {
   "cell_type": "code",
   "execution_count": 14,
   "metadata": {
    "scrolled": false
   },
   "outputs": [
    {
     "name": "stdout",
     "output_type": "stream",
     "text": [
      "{'average_output': False,\n",
      " 'feature_names': ['SepalLengthCm',\n",
      "                   'SepalWidthCm',\n",
      "                   'PetalLengthCm',\n",
      "                   'PetalWidthCm'],\n",
      " 'label_index': 0,\n",
      " 'max_feature_idx': 3,\n",
      " 'name': 'tree',\n",
      " 'num_class': 1,\n",
      " 'num_tree_per_iteration': 1,\n",
      " 'objective': 'binary sigmoid:1',\n",
      " 'pandas_categorical': [],\n",
      " 'tree_info': [{'num_cat': 0,\n",
      "                'num_leaves': 2,\n",
      "                'shrinkage': 1,\n",
      "                'tree_index': 0,\n",
      "                'tree_structure': {'decision_type': '<=',\n",
      "                                   'default_left': True,\n",
      "                                   'internal_count': 84,\n",
      "                                   'internal_value': 0,\n",
      "                                   'left_child': {'leaf_count': 29,\n",
      "                                                  'leaf_index': 0,\n",
      "                                                  'leaf_value': 0.581907584316511},\n",
      "                                   'missing_type': 'None',\n",
      "                                   'right_child': {'leaf_count': 55,\n",
      "                                                   'leaf_index': 1,\n",
      "                                                   'leaf_value': 0.8102630163140337},\n",
      "                                   'split_feature': 2,\n",
      "                                   'split_gain': 86.720703125,\n",
      "                                   'split_index': 0,\n",
      "                                   'threshold': 2.3500000000000005}}],\n",
      " 'version': 'v2'}\n"
     ]
    }
   ],
   "source": [
    "pp.pprint(jsondata)"
   ]
  },
  {
   "cell_type": "markdown",
   "metadata": {},
   "source": [
    "#Exporting to pmml"
   ]
  },
  {
   "cell_type": "code",
   "execution_count": null,
   "metadata": {},
   "outputs": [],
   "source": [
    "import lgbmTrainingAPI_to_pmml"
   ]
  },
  {
   "cell_type": "code",
   "execution_count": null,
   "metadata": {},
   "outputs": [],
   "source": [
    "filename = 'lgbmExportedPMMLofIrisData.pmml'"
   ]
  },
  {
   "cell_type": "code",
   "execution_count": null,
   "metadata": {
    "scrolled": true
   },
   "outputs": [
    {
     "data": {
      "text/plain": [
       "<lgbmTrainingAPI_to_pmml.Export at 0x1d0651aba58>"
      ]
     },
     "execution_count": 21,
     "metadata": {},
     "output_type": "execute_result"
    }
   ],
   "source": [
    "lgbmTrainingAPI_to_pmml.Export(model = gbm , data = lgb_train.data, pmml_f_name = filename)"
   ]
  },
  {
   "cell_type": "markdown",
   "metadata": {},
   "source": [
    "#Reconstruction"
   ]
  },
  {
   "cell_type": "code",
   "execution_count": null,
   "metadata": {},
   "outputs": [],
   "source": [
    "import pmml_to_lgbmTrainAPI"
   ]
  },
  {
   "cell_type": "code",
   "execution_count": null,
   "metadata": {},
   "outputs": [],
   "source": [
    "reconstructed_model = pmml_to_lgbmTrainAPI.reconstruct(filename)"
   ]
  },
  {
   "cell_type": "code",
   "execution_count": null,
   "metadata": {
    "scrolled": true
   },
   "outputs": [],
   "source": [
    "# model_string = reconstructed_model.model_to_string()\n",
    "# print(model_string)"
   ]
  },
  {
   "cell_type": "code",
   "execution_count": null,
   "metadata": {},
   "outputs": [],
   "source": []
  },
  {
   "cell_type": "markdown",
   "metadata": {},
   "source": [
    "#Continueing training"
   ]
  },
  {
   "cell_type": "code",
   "execution_count": null,
   "metadata": {},
   "outputs": [],
   "source": [
    "continued_gbm = lgb.train(params,\n",
    "                    lgb_train,\n",
    "                    num_boost_round=100,\n",
    "                    init_model=reconstructed_model,\n",
    "                    valid_sets=lgb_eval,\n",
    "                    early_stopping_rounds=40,\n",
    "                    verbose_eval = True\n",
    "                   )"
   ]
  },
  {
   "cell_type": "code",
   "execution_count": null,
   "metadata": {},
   "outputs": [],
   "source": []
  },
  {
   "cell_type": "code",
   "execution_count": null,
   "metadata": {
    "scrolled": true
   },
   "outputs": [],
   "source": [
    "dir(gbm)"
   ]
  },
  {
   "cell_type": "code",
   "execution_count": null,
   "metadata": {},
   "outputs": [],
   "source": [
    "gbm.attr"
   ]
  },
  {
   "cell_type": "code",
   "execution_count": 20,
   "metadata": {},
   "outputs": [
    {
     "data": {
      "text/plain": [
       "array([0.99469052])"
      ]
     },
     "execution_count": 20,
     "metadata": {},
     "output_type": "execute_result"
    }
   ],
   "source": [
    "gbm.predict(data = [[6.0, 2.2, 4.0, 1.0]])"
   ]
  },
  {
   "cell_type": "code",
   "execution_count": null,
   "metadata": {},
   "outputs": [],
   "source": [
    "reconstructed_model.predict(data = [[6.0, 2.2, 4.0, 1.0]])"
   ]
  },
  {
   "cell_type": "code",
   "execution_count": null,
   "metadata": {},
   "outputs": [],
   "source": []
  },
  {
   "cell_type": "code",
   "execution_count": null,
   "metadata": {},
   "outputs": [],
   "source": []
  }
 ],
 "metadata": {
  "kernelspec": {
   "display_name": "Python 3",
   "language": "python",
   "name": "python3"
  },
  "language_info": {
   "codemirror_mode": {
    "name": "ipython",
    "version": 3
   },
   "file_extension": ".py",
   "mimetype": "text/x-python",
   "name": "python",
   "nbconvert_exporter": "python",
   "pygments_lexer": "ipython3",
   "version": "3.6.8"
  }
 },
 "nbformat": 4,
 "nbformat_minor": 2
}
